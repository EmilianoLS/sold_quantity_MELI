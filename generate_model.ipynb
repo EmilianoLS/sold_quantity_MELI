{
 "cells": [
  {
   "cell_type": "code",
   "execution_count": 103,
   "metadata": {},
   "outputs": [],
   "source": [
    "# Importo todas las librerias y funciones que uso en el proceso\n",
    "from functions import *\n",
    "# Modifico para poder ver todas las columnas\n",
    "pd.set_option('display.max_columns', None)\n",
    "pd.set_option('display.max_rows', 15)"
   ]
  },
  {
   "cell_type": "code",
   "execution_count": 49,
   "metadata": {},
   "outputs": [],
   "source": [
    "# Importo el dataset que generé en el proceso de análisis y los diccionarios de subcategorías para \n",
    "# la creación de las nuevas variables\n",
    "\n",
    "df_final = pickle.load( open( \"products_df.sav\", \"rb\" ))\n",
    "subcat_dict = pickle.load(open('subcat_dict.sav', 'rb'))"
   ]
  },
  {
   "cell_type": "code",
   "execution_count": 50,
   "metadata": {},
   "outputs": [],
   "source": [
    "# Creo la columna con subcategorias\n",
    "\n",
    "df_final['subcategory'] = df_final['category_id'].apply(lambda x: subcat_dict[x])\n",
    "\n",
    "# Construyo las columnas que voy a usar en el modelo\n",
    "\n",
    "df_final['power_seller_status'] = df_final['seller'].apply(lambda x: x['power_seller_status'])\n",
    "df_final['real_estate_agency']   = df_final['seller'].apply(lambda x: x['real_estate_agency'])\n",
    "df_final['car_dealer']          = df_final['seller'].apply(lambda x: x['car_dealer'])\n",
    "df_final['nick_name']           = df_final['seller'].apply(lambda x: x['eshop']['nick_name'] if 'eshop' in x.keys() else 'NA')\n",
    "df_final['q_installments']      = df_final['installments'].apply(lambda x: x['quantity'] if x is not None else 'NA')\n",
    "df_final['state_name']          = df_final['address'].apply(lambda x: x['state_name'])\n",
    "df_final['city_name']           = df_final['address'].apply(lambda x: x['city_name'])\n",
    "df_final['free_shipping']       = df_final['shipping'].apply(lambda x: x['free_shipping'])\n",
    "df_final['logistic_type']       = df_final['shipping'].apply(lambda x: x['logistic_type'])\n",
    "df_final['store_pick_up']       = df_final['shipping'].apply(lambda x: x['store_pick_up'])\n",
    "df_final['brand']               = df_final['attributes'].apply(lambda x: x[0]['value_name'] if x != [] else 'NA')\n",
    "\n",
    "# Descarto las columnas que no se van a usar en el analisis\n",
    "\n",
    "df_final = df_final[['price','currency_id','available_quantity','sold_quantity','buying_mode'\n",
    "                     ,'listing_type_id','condition','accepts_mercadopago','original_price','official_store_id'\n",
    "                     ,'catalog_listing','category','location','sale_terms','subcategory','power_seller_status'\n",
    "                     , 'real_estate_agency','car_dealer','nick_name','q_installments','state_name','city_name'\n",
    "                     , 'free_shipping','logistic_type','store_pick_up','brand']]\n",
    "\n",
    "# Convierto la variable 'installments' en continua y no categorica\n",
    "\n",
    "df_final['q_installments'] = pd.to_numeric(df_final['q_installments'], errors = 'coerce', \n",
    "                                           downcast = 'signed')"
   ]
  },
  {
   "cell_type": "markdown",
   "metadata": {},
   "source": [
    "### Análisis de NAs"
   ]
  },
  {
   "cell_type": "markdown",
   "metadata": {},
   "source": [
    "Previo a empezar a hacer un feature engineering, quiero entender la composición de valores nulos que existe en cada variable. En base al análisis previo surge que en algunos casos, un alto porcentaje de nulos no implica que haya que descartar la variable, sino que puede estar indicando un comportamiento (si el producto tiene o no descuento, por ejemplo)."
   ]
  },
  {
   "cell_type": "code",
   "execution_count": 51,
   "metadata": {},
   "outputs": [
    {
     "data": {
      "text/plain": [
       "price                 2.179915\n",
       "currency_id           2.179915\n",
       "available_quantity    0.000000\n",
       "sold_quantity         0.000000\n",
       "buying_mode           0.000000\n",
       "                        ...   \n",
       "city_name             0.000000\n",
       "free_shipping         0.000000\n",
       "logistic_type         3.817015\n",
       "store_pick_up         0.000000\n",
       "brand                 1.227492\n",
       "Length: 26, dtype: float64"
      ]
     },
     "execution_count": 51,
     "metadata": {},
     "output_type": "execute_result"
    }
   ],
   "source": [
    "(df_final.isna().sum()/len(df_final))*100"
   ]
  },
  {
   "cell_type": "markdown",
   "metadata": {},
   "source": [
    "Algunos puntos a analizar:\n",
    "\n",
    "* El hecho de que falte el valor de *price* no tiene sentido, porque todo producto que se publique tiene que tener un precio, exceptuando que sea alguna categoría particular\n",
    "* Que la condición sea nula es raro, pero no es un porcentaje muy alto\n",
    "* Como se menciono anteriormente, un valor nulo en *original_price* no es un error, sino que indica que el producto no tiene descuento, pueden tratarse los nulos, ya sea creando una columna que indique si tiene descuento o no, y otra que indique el porcentaje de descuento\n",
    "* *official_store_id* nulo puede indicar que no tiene tienda oficial\n",
    "* *catalog_listing* tiene muchos nulos, puede considerarse eliminarse\n",
    "* *location* tiene un alto porcentaje de nulos, y puede reemplazarse esta información por las columnas *city_name* y *state_name*\n",
    "* *sale_terms* tiene muchos nulos que no pueden imputarse\n",
    "* *power_seller_status* da información útil sobre la clasificación del vendedor, se puede buscar la forma de tratar los nulos\n",
    "* *q_installments* nulo puede indicar que el producto no tiene cuotas o ser un error, de cualquier forma, son pocos\n",
    "* *logistic_type* y *brand* tienen baja proporción de nulos, podrían eliminarse o tratarse"
   ]
  },
  {
   "cell_type": "markdown",
   "metadata": {},
   "source": [
    "### Consideración de variables"
   ]
  },
  {
   "cell_type": "markdown",
   "metadata": {},
   "source": [
    "En esta parte se analizan las variables que deben ir en el modelo y cuáles se descartan (todavía no se está haciendo ninguna ingeniería de atributos)"
   ]
  },
  {
   "cell_type": "code",
   "execution_count": 52,
   "metadata": {},
   "outputs": [
    {
     "data": {
      "text/html": [
       "<div>\n",
       "<style scoped>\n",
       "    .dataframe tbody tr th:only-of-type {\n",
       "        vertical-align: middle;\n",
       "    }\n",
       "\n",
       "    .dataframe tbody tr th {\n",
       "        vertical-align: top;\n",
       "    }\n",
       "\n",
       "    .dataframe thead th {\n",
       "        text-align: right;\n",
       "    }\n",
       "</style>\n",
       "<table border=\"1\" class=\"dataframe\">\n",
       "  <thead>\n",
       "    <tr style=\"text-align: right;\">\n",
       "      <th></th>\n",
       "      <th>price</th>\n",
       "      <th>available_quantity</th>\n",
       "      <th>sold_quantity</th>\n",
       "      <th>q_installments</th>\n",
       "    </tr>\n",
       "  </thead>\n",
       "  <tbody>\n",
       "    <tr>\n",
       "      <th>count</th>\n",
       "      <td>2.937410e+05</td>\n",
       "      <td>300287.000000</td>\n",
       "      <td>300287.000000</td>\n",
       "      <td>273743.000000</td>\n",
       "    </tr>\n",
       "    <tr>\n",
       "      <th>mean</th>\n",
       "      <td>5.087114e+04</td>\n",
       "      <td>704.375457</td>\n",
       "      <td>90.270864</td>\n",
       "      <td>11.547386</td>\n",
       "    </tr>\n",
       "    <tr>\n",
       "      <th>std</th>\n",
       "      <td>2.115941e+06</td>\n",
       "      <td>5089.644085</td>\n",
       "      <td>413.857106</td>\n",
       "      <td>1.912969</td>\n",
       "    </tr>\n",
       "    <tr>\n",
       "      <th>min</th>\n",
       "      <td>1.000000e+00</td>\n",
       "      <td>1.000000</td>\n",
       "      <td>0.000000</td>\n",
       "      <td>6.000000</td>\n",
       "    </tr>\n",
       "    <tr>\n",
       "      <th>25%</th>\n",
       "      <td>4.490000e+02</td>\n",
       "      <td>1.000000</td>\n",
       "      <td>5.000000</td>\n",
       "      <td>12.000000</td>\n",
       "    </tr>\n",
       "    <tr>\n",
       "      <th>50%</th>\n",
       "      <td>1.266000e+03</td>\n",
       "      <td>1.000000</td>\n",
       "      <td>25.000000</td>\n",
       "      <td>12.000000</td>\n",
       "    </tr>\n",
       "    <tr>\n",
       "      <th>75%</th>\n",
       "      <td>3.990000e+03</td>\n",
       "      <td>50.000000</td>\n",
       "      <td>100.000000</td>\n",
       "      <td>12.000000</td>\n",
       "    </tr>\n",
       "    <tr>\n",
       "      <th>max</th>\n",
       "      <td>1.111111e+09</td>\n",
       "      <td>50000.000000</td>\n",
       "      <td>50000.000000</td>\n",
       "      <td>18.000000</td>\n",
       "    </tr>\n",
       "  </tbody>\n",
       "</table>\n",
       "</div>"
      ],
      "text/plain": [
       "              price  available_quantity  sold_quantity  q_installments\n",
       "count  2.937410e+05       300287.000000  300287.000000   273743.000000\n",
       "mean   5.087114e+04          704.375457      90.270864       11.547386\n",
       "std    2.115941e+06         5089.644085     413.857106        1.912969\n",
       "min    1.000000e+00            1.000000       0.000000        6.000000\n",
       "25%    4.490000e+02            1.000000       5.000000       12.000000\n",
       "50%    1.266000e+03            1.000000      25.000000       12.000000\n",
       "75%    3.990000e+03           50.000000     100.000000       12.000000\n",
       "max    1.111111e+09        50000.000000   50000.000000       18.000000"
      ]
     },
     "execution_count": 52,
     "metadata": {},
     "output_type": "execute_result"
    }
   ],
   "source": [
    "df_final.describe()"
   ]
  },
  {
   "cell_type": "code",
   "execution_count": 53,
   "metadata": {},
   "outputs": [
    {
     "data": {
      "text/plain": [
       "Servicios    6546\n",
       "Name: category, dtype: int64"
      ]
     },
     "execution_count": 53,
     "metadata": {},
     "output_type": "execute_result"
    }
   ],
   "source": [
    "df_final[df_final['price'].isna()]['category'].value_counts()"
   ]
  },
  {
   "cell_type": "code",
   "execution_count": 54,
   "metadata": {},
   "outputs": [
    {
     "data": {
      "text/plain": [
       "ARS    288283\n",
       "USD      5458\n",
       "Name: currency_id, dtype: int64"
      ]
     },
     "execution_count": 54,
     "metadata": {},
     "output_type": "execute_result"
    }
   ],
   "source": [
    "# Veo los valores posibles de currency_id, si tiene varios, se mantiene pero si todos los precios están \n",
    "# en pesos, no vale la pena mantenerla\n",
    "\n",
    "df_final['currency_id'].value_counts()"
   ]
  },
  {
   "cell_type": "markdown",
   "metadata": {},
   "source": [
    "Vemos que hay de ambas monedas, lo que seguramente influirá al momento de la cantidad de productos comprados, por lo que se mantiene esta variable"
   ]
  },
  {
   "cell_type": "code",
   "execution_count": 55,
   "metadata": {},
   "outputs": [
    {
     "data": {
      "text/plain": [
       "buy_it_now    270402\n",
       "classified     29885\n",
       "Name: buying_mode, dtype: int64"
      ]
     },
     "execution_count": 55,
     "metadata": {},
     "output_type": "execute_result"
    }
   ],
   "source": [
    "df_final['buying_mode'].value_counts()"
   ]
  },
  {
   "cell_type": "code",
   "execution_count": 56,
   "metadata": {},
   "outputs": [
    {
     "data": {
      "text/plain": [
       "gold_special    240826\n",
       "gold_pro         29460\n",
       "gold_premium     26631\n",
       "gold              1854\n",
       "silver            1400\n",
       "free               116\n",
       "Name: listing_type_id, dtype: int64"
      ]
     },
     "execution_count": 56,
     "metadata": {},
     "output_type": "execute_result"
    }
   ],
   "source": [
    "df_final['listing_type_id'].value_counts()"
   ]
  },
  {
   "cell_type": "code",
   "execution_count": 57,
   "metadata": {},
   "outputs": [
    {
     "data": {
      "text/plain": [
       "new              270624\n",
       "used              17509\n",
       "not_specified      2154\n",
       "Name: condition, dtype: int64"
      ]
     },
     "execution_count": 57,
     "metadata": {},
     "output_type": "execute_result"
    }
   ],
   "source": [
    "df_final['condition'].value_counts()"
   ]
  },
  {
   "cell_type": "code",
   "execution_count": 58,
   "metadata": {},
   "outputs": [
    {
     "data": {
      "text/plain": [
       "True     290171\n",
       "False     10116\n",
       "Name: accepts_mercadopago, dtype: int64"
      ]
     },
     "execution_count": 58,
     "metadata": {},
     "output_type": "execute_result"
    }
   ],
   "source": [
    "df_final['accepts_mercadopago'].value_counts()"
   ]
  },
  {
   "cell_type": "code",
   "execution_count": 59,
   "metadata": {},
   "outputs": [
    {
     "data": {
      "text/plain": [
       "platinum    125737\n",
       "gold         38235\n",
       "silver       22348\n",
       "Name: power_seller_status, dtype: int64"
      ]
     },
     "execution_count": 59,
     "metadata": {},
     "output_type": "execute_result"
    }
   ],
   "source": [
    "df_final['power_seller_status'].value_counts()"
   ]
  },
  {
   "cell_type": "code",
   "execution_count": 60,
   "metadata": {},
   "outputs": [
    {
     "data": {
      "text/plain": [
       "False    297062\n",
       "True       3225\n",
       "Name: real_estate_agency, dtype: int64"
      ]
     },
     "execution_count": 60,
     "metadata": {},
     "output_type": "execute_result"
    }
   ],
   "source": [
    "df_final['real_estate_agency'].value_counts()"
   ]
  },
  {
   "cell_type": "code",
   "execution_count": 61,
   "metadata": {},
   "outputs": [
    {
     "data": {
      "text/plain": [
       "False    292176\n",
       "True       8111\n",
       "Name: car_dealer, dtype: int64"
      ]
     },
     "execution_count": 61,
     "metadata": {},
     "output_type": "execute_result"
    }
   ],
   "source": [
    "df_final['car_dealer'].value_counts()"
   ]
  },
  {
   "cell_type": "code",
   "execution_count": 62,
   "metadata": {},
   "outputs": [
    {
     "data": {
      "text/plain": [
       "12.0    244359\n",
       "6.0      25017\n",
       "18.0      4367\n",
       "Name: q_installments, dtype: int64"
      ]
     },
     "execution_count": 62,
     "metadata": {},
     "output_type": "execute_result"
    }
   ],
   "source": [
    "df_final['q_installments'].value_counts()"
   ]
  },
  {
   "cell_type": "code",
   "execution_count": 63,
   "metadata": {},
   "outputs": [
    {
     "data": {
      "text/plain": [
       "False    220027\n",
       "True      80260\n",
       "Name: free_shipping, dtype: int64"
      ]
     },
     "execution_count": 63,
     "metadata": {},
     "output_type": "execute_result"
    }
   ],
   "source": [
    "df_final['free_shipping'].value_counts()"
   ]
  },
  {
   "cell_type": "code",
   "execution_count": 64,
   "metadata": {},
   "outputs": [
    {
     "data": {
      "text/plain": [
       "cross_docking    120492\n",
       "drop_off          55808\n",
       "xd_drop_off       44998\n",
       "not_specified     43921\n",
       "fulfillment       18940\n",
       "custom             4621\n",
       "default              45\n",
       "Name: logistic_type, dtype: int64"
      ]
     },
     "execution_count": 64,
     "metadata": {},
     "output_type": "execute_result"
    }
   ],
   "source": [
    "df_final['logistic_type'].value_counts()"
   ]
  },
  {
   "cell_type": "code",
   "execution_count": 65,
   "metadata": {},
   "outputs": [
    {
     "data": {
      "text/plain": [
       "False    292184\n",
       "True       8103\n",
       "Name: store_pick_up, dtype: int64"
      ]
     },
     "execution_count": 65,
     "metadata": {},
     "output_type": "execute_result"
    }
   ],
   "source": [
    "df_final['store_pick_up'].value_counts()"
   ]
  },
  {
   "cell_type": "markdown",
   "metadata": {},
   "source": [
    "### Tratado de variables"
   ]
  },
  {
   "cell_type": "markdown",
   "metadata": {},
   "source": [
    "Se crean nuevas variables necesarias para el tratamiento de algunos nulos, se eliminan aquellas que tienen un alto porcentaje y no pueden tratarse"
   ]
  },
  {
   "cell_type": "code",
   "execution_count": 66,
   "metadata": {},
   "outputs": [
    {
     "data": {
      "image/png": "[encoded data removed]",
      "text/plain": [
       "<Figure size 1080x576 with 1 Axes>"
      ]
     },
     "metadata": {
      "needs_background": "light"
     },
     "output_type": "display_data"
    }
   ],
   "source": [
    "plt.figure(figsize = (15,8))\n",
    "plt.boxplot(df_final[df_final['price'].notna()]['price'], vert = False)\n",
    "plt.grid(True)"
   ]
  },
  {
   "cell_type": "markdown",
   "metadata": {},
   "source": [
    "Se observan varios Outliers en la variable de price (o potenciales Outliers), sin embargo, la idea es ver por qué valor se puede imputar a los valores nulos, ya que en estos casos no es un error sino que, como se vio previamente, se puede intuir que para algunos servicios, no se coloca precio al producto/servicio.\n",
    "\n",
    "Un valor razonable es el -1, ya que no existen precios negativos."
   ]
  },
  {
   "cell_type": "code",
   "execution_count": 67,
   "metadata": {},
   "outputs": [],
   "source": [
    "df_final['price'] = df_final['price'].fillna(-1)"
   ]
  },
  {
   "cell_type": "markdown",
   "metadata": {},
   "source": [
    "Para reemplazar los nulos en la variable *currency_id* se mira primero en qué categorías se tiene la moneda en *USD*, porque la mayoría está en *ARS*, y ver si se dan siempre en la misma categoría"
   ]
  },
  {
   "cell_type": "code",
   "execution_count": 68,
   "metadata": {
    "scrolled": true
   },
   "outputs": [
    {
     "data": {
      "text/plain": [
       "Inmuebles               3825\n",
       "Autos, Motos y Otros    1565\n",
       "Servicios                 68\n",
       "Name: category, dtype: int64"
      ]
     },
     "execution_count": 68,
     "metadata": {},
     "output_type": "execute_result"
    }
   ],
   "source": [
    "df_final[df_final['currency_id'] == 'USD']['category'].value_counts()"
   ]
  },
  {
   "cell_type": "markdown",
   "metadata": {},
   "source": [
    "Los valores nulos de la variable son los mismos registros que tenían la variable *price* nula, lo cual es lógico, al no haber precio, no indica el currency. \n",
    "\n",
    "También se había visto que todos los nulos de *price* se encontraban en la categoría *servicios*. Por lo tanto, viendo que los servicios que se cobran en dólares son la minoría, se asume que los valores *NA* del currency son *ARS*"
   ]
  },
  {
   "cell_type": "code",
   "execution_count": 69,
   "metadata": {},
   "outputs": [],
   "source": [
    "df_final['currency_id'] = df_final['currency_id'].fillna('ARS')"
   ]
  },
  {
   "cell_type": "markdown",
   "metadata": {},
   "source": [
    "Los nulos para la *condition* se toma como criterio colocar el valor *not_specified*, que ya es un valor posible dentro del dataset"
   ]
  },
  {
   "cell_type": "code",
   "execution_count": 70,
   "metadata": {},
   "outputs": [],
   "source": [
    "df_final['condition'] = df_final['condition'].fillna('not_specified')"
   ]
  },
  {
   "cell_type": "markdown",
   "metadata": {},
   "source": [
    "### Creo la variable 'with_discount' y 'discount'"
   ]
  },
  {
   "cell_type": "markdown",
   "metadata": {},
   "source": [
    "Se va a mantener la variable *original_price*, agregando una categórica que indique si el producto tiene descuento o no, y otra que tenga el porcentaje de descuento.\n",
    "\n",
    "Cuando se esté testeando el modelo en la etapa de validación, se demostrará si vale la pena mantener la variable original o no"
   ]
  },
  {
   "cell_type": "code",
   "execution_count": 71,
   "metadata": {},
   "outputs": [],
   "source": [
    "# Creo la variable 'with_discount' indicando si el producto tiene descuento o no\n",
    "\n",
    "df_final['with_discount'] = df_final['original_price'].notna()"
   ]
  },
  {
   "cell_type": "code",
   "execution_count": 72,
   "metadata": {},
   "outputs": [],
   "source": [
    "# Reemplazo los NANs de 'original_price' por el valor de price (0% de descuento) y creo\n",
    "# la variable % de descuento, calculando la relación entre original price y price\n",
    "\n",
    "df_final['original_price'] = df_final['original_price'].fillna(df_final['price'])\n",
    "df_final['descuento'] = ((df_final['original_price'] - df_final['price'])/df_final['original_price'])*100"
   ]
  },
  {
   "cell_type": "markdown",
   "metadata": {},
   "source": [
    "### Variable 'power_seller_status'"
   ]
  },
  {
   "cell_type": "markdown",
   "metadata": {},
   "source": [
    "Los más probable es que los valores nulos que se encuentran sean porque el vendedor no tenga una clasificación muy alta, probablemente por sus bajas ventas, que lleva a no muchas calificaciones positivas, etc."
   ]
  },
  {
   "cell_type": "code",
   "execution_count": 73,
   "metadata": {},
   "outputs": [
    {
     "data": {
      "text/plain": [
       "platinum    125737\n",
       "gold         38235\n",
       "silver       22348\n",
       "Name: power_seller_status, dtype: int64"
      ]
     },
     "execution_count": 73,
     "metadata": {},
     "output_type": "execute_result"
    }
   ],
   "source": [
    "df_final['power_seller_status'].value_counts()"
   ]
  },
  {
   "cell_type": "code",
   "execution_count": 74,
   "metadata": {},
   "outputs": [
    {
     "data": {
      "text/plain": [
       "0        31462\n",
       "5        26010\n",
       "25       13595\n",
       "50       11196\n",
       "1         6414\n",
       "100       5012\n",
       "2         4260\n",
       "250       3675\n",
       "3         2838\n",
       "150       2779\n",
       "500       2697\n",
       "4         2184\n",
       "200       1775\n",
       "5000        69\n",
       "50000        1\n",
       "Name: sold_quantity, dtype: int64"
      ]
     },
     "execution_count": 74,
     "metadata": {},
     "output_type": "execute_result"
    }
   ],
   "source": [
    "df_final[df_final['power_seller_status'].isna()]['sold_quantity'].value_counts()"
   ]
  },
  {
   "cell_type": "markdown",
   "metadata": {},
   "source": [
    "Vemos que los casos que tienen nulo el valor de la variable *power_seller_satatus* no han vendido más de 1000 unidades, sino que suelen tener pocos artículos vendidos. \n",
    "\n",
    "En base a esta información, podemos reemplazar el valor de los *NAs* por una valor tipo *'basic'*"
   ]
  },
  {
   "cell_type": "code",
   "execution_count": 75,
   "metadata": {},
   "outputs": [],
   "source": [
    "df_final['power_seller_status'] = df_final['power_seller_status'].fillna('basic')"
   ]
  },
  {
   "cell_type": "markdown",
   "metadata": {},
   "source": [
    "### Variable 'q_installments'"
   ]
  },
  {
   "cell_type": "markdown",
   "metadata": {},
   "source": [
    "Los valores nulos en estos casos pueden tratarse de artículos que no ofrecen cuotas, por lo que se reemplaza por un 0"
   ]
  },
  {
   "cell_type": "code",
   "execution_count": 76,
   "metadata": {},
   "outputs": [],
   "source": [
    "df_final['q_installments'] = df_final['q_installments'].fillna(0)"
   ]
  },
  {
   "cell_type": "markdown",
   "metadata": {},
   "source": [
    "### Variables 'logistic_type' y 'brand'"
   ]
  },
  {
   "cell_type": "code",
   "execution_count": 77,
   "metadata": {},
   "outputs": [
    {
     "data": {
      "text/plain": [
       "cross_docking    120492\n",
       "drop_off          55808\n",
       "xd_drop_off       44998\n",
       "not_specified     43921\n",
       "fulfillment       18940\n",
       "custom             4621\n",
       "default              45\n",
       "Name: logistic_type, dtype: int64"
      ]
     },
     "execution_count": 77,
     "metadata": {},
     "output_type": "execute_result"
    }
   ],
   "source": [
    "df_final['logistic_type'].value_counts()"
   ]
  },
  {
   "cell_type": "code",
   "execution_count": 78,
   "metadata": {},
   "outputs": [
    {
     "data": {
      "text/plain": [
       "Nuevo                 35487\n",
       "NA                    10219\n",
       "Usado                  9793\n",
       "No                     5029\n",
       "Sí                     4199\n",
       "                      ...  \n",
       "Edicion Especial          1\n",
       "Teriyaki                  1\n",
       "ARTECOR DECORACION        1\n",
       "Pawz                      1\n",
       "100-208                   1\n",
       "Name: brand, Length: 40205, dtype: int64"
      ]
     },
     "execution_count": 78,
     "metadata": {},
     "output_type": "execute_result"
    }
   ],
   "source": [
    "df_final['brand'].value_counts()"
   ]
  },
  {
   "cell_type": "markdown",
   "metadata": {},
   "source": [
    "Para los casos nulos de la variable *logistic_type*, en vista de que existe el valor *default*, se reemplazara por este valor.\n",
    "\n",
    "El caso de la *brand*, no se obtuvo adecuadamente el valor, sino que hay una mezcla de atributos, por lo que no puede utilizarse esta variable"
   ]
  },
  {
   "cell_type": "code",
   "execution_count": 79,
   "metadata": {},
   "outputs": [],
   "source": [
    "df_final['logistic_type'] = df_final['logistic_type'].fillna('default')"
   ]
  },
  {
   "cell_type": "markdown",
   "metadata": {},
   "source": [
    "## Me quedo con el dataframe final"
   ]
  },
  {
   "cell_type": "code",
   "execution_count": 80,
   "metadata": {},
   "outputs": [],
   "source": [
    "df_final = df_final[['price','currency_id','available_quantity','sold_quantity','buying_mode'\n",
    "                     ,'listing_type_id','condition','accepts_mercadopago','original_price'\n",
    "                     ,'category','subcategory','power_seller_status'\n",
    "                     , 'real_estate_agency','car_dealer','q_installments','state_name','city_name'\n",
    "                     , 'free_shipping','logistic_type','store_pick_up','with_discount','descuento']]"
   ]
  },
  {
   "cell_type": "markdown",
   "metadata": {},
   "source": [
    "## Validación del modelo - Train/ Test Split"
   ]
  },
  {
   "cell_type": "markdown",
   "metadata": {},
   "source": [
    "En esta etapa separo un conjunto de testeo (o validación) para poder evaluar la performance del modelo sobre datos nuevos.\n",
    "\n",
    "El modelo que se va a desarrollar es uno de *clasificación*, ya que si bien la variable a predecir es continua, en las bases se encuentra discretizada en rangos."
   ]
  },
  {
   "cell_type": "code",
   "execution_count": 81,
   "metadata": {},
   "outputs": [],
   "source": [
    "# # Uso el diccionario generado en la etapa de análisis para convertir los valores continuos en categoricos\n",
    "\n",
    "# dict_sold = pickle.load(open('dict_sold.sav', 'rb'))\n",
    "\n",
    "# # Creo una columna con el rango de productos vendidos\n",
    "\n",
    "# df_final['sold_quantity_range'] = df_final['sold_quantity'].apply(lambda x: dict_sold[str(x)])"
   ]
  },
  {
   "cell_type": "code",
   "execution_count": 82,
   "metadata": {},
   "outputs": [],
   "source": [
    "# # Elimino la variable original, ya no la necesito\n",
    "\n",
    "# df_final.drop(columns = 'sold_quantity_range', axis = 1, inplace = True)"
   ]
  },
  {
   "cell_type": "markdown",
   "metadata": {},
   "source": [
    "Antes de dividir también es importante detectar outliers que puedan desviar los resultados"
   ]
  },
  {
   "cell_type": "code",
   "execution_count": 83,
   "metadata": {},
   "outputs": [
    {
     "data": {
      "text/html": [
       "<div>\n",
       "<style scoped>\n",
       "    .dataframe tbody tr th:only-of-type {\n",
       "        vertical-align: middle;\n",
       "    }\n",
       "\n",
       "    .dataframe tbody tr th {\n",
       "        vertical-align: top;\n",
       "    }\n",
       "\n",
       "    .dataframe thead th {\n",
       "        text-align: right;\n",
       "    }\n",
       "</style>\n",
       "<table border=\"1\" class=\"dataframe\">\n",
       "  <thead>\n",
       "    <tr style=\"text-align: right;\">\n",
       "      <th></th>\n",
       "      <th>price</th>\n",
       "      <th>available_quantity</th>\n",
       "      <th>sold_quantity</th>\n",
       "      <th>original_price</th>\n",
       "      <th>q_installments</th>\n",
       "      <th>descuento</th>\n",
       "    </tr>\n",
       "  </thead>\n",
       "  <tbody>\n",
       "    <tr>\n",
       "      <th>count</th>\n",
       "      <td>3.002870e+05</td>\n",
       "      <td>300287.000000</td>\n",
       "      <td>300287.000000</td>\n",
       "      <td>3.002870e+05</td>\n",
       "      <td>300287.000000</td>\n",
       "      <td>300287.000000</td>\n",
       "    </tr>\n",
       "    <tr>\n",
       "      <th>mean</th>\n",
       "      <td>4.976217e+04</td>\n",
       "      <td>704.375457</td>\n",
       "      <td>90.270864</td>\n",
       "      <td>4.989899e+04</td>\n",
       "      <td>10.526650</td>\n",
       "      <td>1.496312</td>\n",
       "    </tr>\n",
       "    <tr>\n",
       "      <th>std</th>\n",
       "      <td>2.092764e+06</td>\n",
       "      <td>5089.644085</td>\n",
       "      <td>413.857106</td>\n",
       "      <td>2.092764e+06</td>\n",
       "      <td>3.752458</td>\n",
       "      <td>6.067447</td>\n",
       "    </tr>\n",
       "    <tr>\n",
       "      <th>min</th>\n",
       "      <td>-1.000000e+00</td>\n",
       "      <td>1.000000</td>\n",
       "      <td>0.000000</td>\n",
       "      <td>-1.000000e+00</td>\n",
       "      <td>0.000000</td>\n",
       "      <td>0.000000</td>\n",
       "    </tr>\n",
       "    <tr>\n",
       "      <th>25%</th>\n",
       "      <td>4.000000e+02</td>\n",
       "      <td>1.000000</td>\n",
       "      <td>5.000000</td>\n",
       "      <td>4.100000e+02</td>\n",
       "      <td>12.000000</td>\n",
       "      <td>-0.000000</td>\n",
       "    </tr>\n",
       "    <tr>\n",
       "      <th>50%</th>\n",
       "      <td>1.200000e+03</td>\n",
       "      <td>1.000000</td>\n",
       "      <td>25.000000</td>\n",
       "      <td>1.208790e+03</td>\n",
       "      <td>12.000000</td>\n",
       "      <td>0.000000</td>\n",
       "    </tr>\n",
       "    <tr>\n",
       "      <th>75%</th>\n",
       "      <td>3.898390e+03</td>\n",
       "      <td>50.000000</td>\n",
       "      <td>100.000000</td>\n",
       "      <td>3.999000e+03</td>\n",
       "      <td>12.000000</td>\n",
       "      <td>0.000000</td>\n",
       "    </tr>\n",
       "    <tr>\n",
       "      <th>max</th>\n",
       "      <td>1.111111e+09</td>\n",
       "      <td>50000.000000</td>\n",
       "      <td>50000.000000</td>\n",
       "      <td>1.111111e+09</td>\n",
       "      <td>18.000000</td>\n",
       "      <td>94.410000</td>\n",
       "    </tr>\n",
       "  </tbody>\n",
       "</table>\n",
       "</div>"
      ],
      "text/plain": [
       "              price  available_quantity  sold_quantity  original_price  \\\n",
       "count  3.002870e+05       300287.000000  300287.000000    3.002870e+05   \n",
       "mean   4.976217e+04          704.375457      90.270864    4.989899e+04   \n",
       "std    2.092764e+06         5089.644085     413.857106    2.092764e+06   \n",
       "min   -1.000000e+00            1.000000       0.000000   -1.000000e+00   \n",
       "25%    4.000000e+02            1.000000       5.000000    4.100000e+02   \n",
       "50%    1.200000e+03            1.000000      25.000000    1.208790e+03   \n",
       "75%    3.898390e+03           50.000000     100.000000    3.999000e+03   \n",
       "max    1.111111e+09        50000.000000   50000.000000    1.111111e+09   \n",
       "\n",
       "       q_installments      descuento  \n",
       "count   300287.000000  300287.000000  \n",
       "mean        10.526650       1.496312  \n",
       "std          3.752458       6.067447  \n",
       "min          0.000000       0.000000  \n",
       "25%         12.000000      -0.000000  \n",
       "50%         12.000000       0.000000  \n",
       "75%         12.000000       0.000000  \n",
       "max         18.000000      94.410000  "
      ]
     },
     "execution_count": 83,
     "metadata": {},
     "output_type": "execute_result"
    }
   ],
   "source": [
    "df_final.describe()"
   ]
  },
  {
   "cell_type": "markdown",
   "metadata": {},
   "source": [
    "Unicamente pareciera haber valores aberrantes en el *price*. Tiene un máximo muy extremo. Podemos verificar a qué tipo de producto pertenece"
   ]
  },
  {
   "cell_type": "code",
   "execution_count": 84,
   "metadata": {},
   "outputs": [
    {
     "data": {
      "text/html": [
       "<div>\n",
       "<style scoped>\n",
       "    .dataframe tbody tr th:only-of-type {\n",
       "        vertical-align: middle;\n",
       "    }\n",
       "\n",
       "    .dataframe tbody tr th {\n",
       "        vertical-align: top;\n",
       "    }\n",
       "\n",
       "    .dataframe thead th {\n",
       "        text-align: right;\n",
       "    }\n",
       "</style>\n",
       "<table border=\"1\" class=\"dataframe\">\n",
       "  <thead>\n",
       "    <tr style=\"text-align: right;\">\n",
       "      <th></th>\n",
       "      <th>price</th>\n",
       "      <th>currency_id</th>\n",
       "      <th>available_quantity</th>\n",
       "      <th>sold_quantity</th>\n",
       "      <th>buying_mode</th>\n",
       "      <th>listing_type_id</th>\n",
       "      <th>condition</th>\n",
       "      <th>accepts_mercadopago</th>\n",
       "      <th>original_price</th>\n",
       "      <th>category</th>\n",
       "      <th>subcategory</th>\n",
       "      <th>power_seller_status</th>\n",
       "      <th>real_estate_agency</th>\n",
       "      <th>car_dealer</th>\n",
       "      <th>q_installments</th>\n",
       "      <th>state_name</th>\n",
       "      <th>city_name</th>\n",
       "      <th>free_shipping</th>\n",
       "      <th>logistic_type</th>\n",
       "      <th>store_pick_up</th>\n",
       "      <th>with_discount</th>\n",
       "      <th>descuento</th>\n",
       "    </tr>\n",
       "  </thead>\n",
       "  <tbody>\n",
       "    <tr>\n",
       "      <th>18</th>\n",
       "      <td>76120.0</td>\n",
       "      <td>ARS</td>\n",
       "      <td>1</td>\n",
       "      <td>4</td>\n",
       "      <td>buy_it_now</td>\n",
       "      <td>gold_pro</td>\n",
       "      <td>new</td>\n",
       "      <td>True</td>\n",
       "      <td>76120.0</td>\n",
       "      <td>Accesorios para Vehículos</td>\n",
       "      <td>Aspiradoras</td>\n",
       "      <td>platinum</td>\n",
       "      <td>False</td>\n",
       "      <td>False</td>\n",
       "      <td>6.0</td>\n",
       "      <td>Capital Federal</td>\n",
       "      <td>Villa Crespo</td>\n",
       "      <td>True</td>\n",
       "      <td>cross_docking</td>\n",
       "      <td>False</td>\n",
       "      <td>False</td>\n",
       "      <td>0.0</td>\n",
       "    </tr>\n",
       "    <tr>\n",
       "      <th>3489</th>\n",
       "      <td>76900.0</td>\n",
       "      <td>ARS</td>\n",
       "      <td>1</td>\n",
       "      <td>25</td>\n",
       "      <td>buy_it_now</td>\n",
       "      <td>gold_special</td>\n",
       "      <td>new</td>\n",
       "      <td>True</td>\n",
       "      <td>76900.0</td>\n",
       "      <td>Accesorios para Vehículos</td>\n",
       "      <td>Kits de Embrague</td>\n",
       "      <td>silver</td>\n",
       "      <td>False</td>\n",
       "      <td>False</td>\n",
       "      <td>12.0</td>\n",
       "      <td>Buenos Aires</td>\n",
       "      <td>Adrogue</td>\n",
       "      <td>True</td>\n",
       "      <td>drop_off</td>\n",
       "      <td>False</td>\n",
       "      <td>False</td>\n",
       "      <td>0.0</td>\n",
       "    </tr>\n",
       "    <tr>\n",
       "      <th>9320</th>\n",
       "      <td>69000.0</td>\n",
       "      <td>ARS</td>\n",
       "      <td>500</td>\n",
       "      <td>25</td>\n",
       "      <td>buy_it_now</td>\n",
       "      <td>gold_pro</td>\n",
       "      <td>new</td>\n",
       "      <td>True</td>\n",
       "      <td>69000.0</td>\n",
       "      <td>Accesorios para Vehículos</td>\n",
       "      <td>Equipos Completos</td>\n",
       "      <td>silver</td>\n",
       "      <td>False</td>\n",
       "      <td>False</td>\n",
       "      <td>18.0</td>\n",
       "      <td>Capital Federal</td>\n",
       "      <td>Nueva Pompeya</td>\n",
       "      <td>False</td>\n",
       "      <td>not_specified</td>\n",
       "      <td>False</td>\n",
       "      <td>False</td>\n",
       "      <td>0.0</td>\n",
       "    </tr>\n",
       "    <tr>\n",
       "      <th>9642</th>\n",
       "      <td>66600.0</td>\n",
       "      <td>ARS</td>\n",
       "      <td>500</td>\n",
       "      <td>25</td>\n",
       "      <td>buy_it_now</td>\n",
       "      <td>gold_pro</td>\n",
       "      <td>new</td>\n",
       "      <td>True</td>\n",
       "      <td>66600.0</td>\n",
       "      <td>Accesorios para Vehículos</td>\n",
       "      <td>Equipos Completos</td>\n",
       "      <td>silver</td>\n",
       "      <td>False</td>\n",
       "      <td>False</td>\n",
       "      <td>18.0</td>\n",
       "      <td>Capital Federal</td>\n",
       "      <td>Nueva Pompeya</td>\n",
       "      <td>False</td>\n",
       "      <td>not_specified</td>\n",
       "      <td>False</td>\n",
       "      <td>False</td>\n",
       "      <td>0.0</td>\n",
       "    </tr>\n",
       "    <tr>\n",
       "      <th>9768</th>\n",
       "      <td>72000.0</td>\n",
       "      <td>ARS</td>\n",
       "      <td>500</td>\n",
       "      <td>5</td>\n",
       "      <td>buy_it_now</td>\n",
       "      <td>gold_pro</td>\n",
       "      <td>new</td>\n",
       "      <td>True</td>\n",
       "      <td>72000.0</td>\n",
       "      <td>Accesorios para Vehículos</td>\n",
       "      <td>Equipos Completos</td>\n",
       "      <td>silver</td>\n",
       "      <td>False</td>\n",
       "      <td>False</td>\n",
       "      <td>18.0</td>\n",
       "      <td>Capital Federal</td>\n",
       "      <td>Parque Patricios</td>\n",
       "      <td>False</td>\n",
       "      <td>not_specified</td>\n",
       "      <td>False</td>\n",
       "      <td>False</td>\n",
       "      <td>0.0</td>\n",
       "    </tr>\n",
       "    <tr>\n",
       "      <th>...</th>\n",
       "      <td>...</td>\n",
       "      <td>...</td>\n",
       "      <td>...</td>\n",
       "      <td>...</td>\n",
       "      <td>...</td>\n",
       "      <td>...</td>\n",
       "      <td>...</td>\n",
       "      <td>...</td>\n",
       "      <td>...</td>\n",
       "      <td>...</td>\n",
       "      <td>...</td>\n",
       "      <td>...</td>\n",
       "      <td>...</td>\n",
       "      <td>...</td>\n",
       "      <td>...</td>\n",
       "      <td>...</td>\n",
       "      <td>...</td>\n",
       "      <td>...</td>\n",
       "      <td>...</td>\n",
       "      <td>...</td>\n",
       "      <td>...</td>\n",
       "      <td>...</td>\n",
       "    </tr>\n",
       "    <tr>\n",
       "      <th>294924</th>\n",
       "      <td>110000.0</td>\n",
       "      <td>ARS</td>\n",
       "      <td>1</td>\n",
       "      <td>5</td>\n",
       "      <td>buy_it_now</td>\n",
       "      <td>gold_special</td>\n",
       "      <td>new</td>\n",
       "      <td>True</td>\n",
       "      <td>110000.0</td>\n",
       "      <td>Otras categorías</td>\n",
       "      <td>Otros</td>\n",
       "      <td>gold</td>\n",
       "      <td>False</td>\n",
       "      <td>False</td>\n",
       "      <td>12.0</td>\n",
       "      <td>Santa Fe</td>\n",
       "      <td>Villa Amelia</td>\n",
       "      <td>True</td>\n",
       "      <td>drop_off</td>\n",
       "      <td>False</td>\n",
       "      <td>False</td>\n",
       "      <td>0.0</td>\n",
       "    </tr>\n",
       "    <tr>\n",
       "      <th>296527</th>\n",
       "      <td>65000.0</td>\n",
       "      <td>ARS</td>\n",
       "      <td>1</td>\n",
       "      <td>1</td>\n",
       "      <td>buy_it_now</td>\n",
       "      <td>gold_special</td>\n",
       "      <td>new</td>\n",
       "      <td>True</td>\n",
       "      <td>65000.0</td>\n",
       "      <td>Otras categorías</td>\n",
       "      <td>Otros</td>\n",
       "      <td>basic</td>\n",
       "      <td>False</td>\n",
       "      <td>False</td>\n",
       "      <td>12.0</td>\n",
       "      <td>Capital Federal</td>\n",
       "      <td>Palermo</td>\n",
       "      <td>True</td>\n",
       "      <td>not_specified</td>\n",
       "      <td>False</td>\n",
       "      <td>False</td>\n",
       "      <td>0.0</td>\n",
       "    </tr>\n",
       "    <tr>\n",
       "      <th>298984</th>\n",
       "      <td>139000.0</td>\n",
       "      <td>ARS</td>\n",
       "      <td>1</td>\n",
       "      <td>0</td>\n",
       "      <td>buy_it_now</td>\n",
       "      <td>gold_pro</td>\n",
       "      <td>new</td>\n",
       "      <td>True</td>\n",
       "      <td>139000.0</td>\n",
       "      <td>Otras categorías</td>\n",
       "      <td>Rigs Mineros</td>\n",
       "      <td>basic</td>\n",
       "      <td>False</td>\n",
       "      <td>False</td>\n",
       "      <td>6.0</td>\n",
       "      <td>Capital Federal</td>\n",
       "      <td>Palermo</td>\n",
       "      <td>False</td>\n",
       "      <td>not_specified</td>\n",
       "      <td>False</td>\n",
       "      <td>False</td>\n",
       "      <td>0.0</td>\n",
       "    </tr>\n",
       "    <tr>\n",
       "      <th>299256</th>\n",
       "      <td>84600.0</td>\n",
       "      <td>ARS</td>\n",
       "      <td>50</td>\n",
       "      <td>2</td>\n",
       "      <td>buy_it_now</td>\n",
       "      <td>gold_special</td>\n",
       "      <td>new</td>\n",
       "      <td>True</td>\n",
       "      <td>84600.0</td>\n",
       "      <td>Otras categorías</td>\n",
       "      <td>Pirotecnia</td>\n",
       "      <td>gold</td>\n",
       "      <td>False</td>\n",
       "      <td>False</td>\n",
       "      <td>12.0</td>\n",
       "      <td>Capital Federal</td>\n",
       "      <td>Capital Federal</td>\n",
       "      <td>False</td>\n",
       "      <td>not_specified</td>\n",
       "      <td>False</td>\n",
       "      <td>False</td>\n",
       "      <td>0.0</td>\n",
       "    </tr>\n",
       "    <tr>\n",
       "      <th>300279</th>\n",
       "      <td>95000.0</td>\n",
       "      <td>ARS</td>\n",
       "      <td>1</td>\n",
       "      <td>0</td>\n",
       "      <td>buy_it_now</td>\n",
       "      <td>gold_pro</td>\n",
       "      <td>new</td>\n",
       "      <td>True</td>\n",
       "      <td>95000.0</td>\n",
       "      <td>Otras categorías</td>\n",
       "      <td>Otros</td>\n",
       "      <td>basic</td>\n",
       "      <td>False</td>\n",
       "      <td>False</td>\n",
       "      <td>6.0</td>\n",
       "      <td>Buenos Aires</td>\n",
       "      <td>alte browm</td>\n",
       "      <td>False</td>\n",
       "      <td>not_specified</td>\n",
       "      <td>False</td>\n",
       "      <td>False</td>\n",
       "      <td>0.0</td>\n",
       "    </tr>\n",
       "  </tbody>\n",
       "</table>\n",
       "<p>15000 rows × 22 columns</p>\n",
       "</div>"
      ],
      "text/plain": [
       "           price currency_id  available_quantity  sold_quantity buying_mode  \\\n",
       "18       76120.0         ARS                   1              4  buy_it_now   \n",
       "3489     76900.0         ARS                   1             25  buy_it_now   \n",
       "9320     69000.0         ARS                 500             25  buy_it_now   \n",
       "9642     66600.0         ARS                 500             25  buy_it_now   \n",
       "9768     72000.0         ARS                 500              5  buy_it_now   \n",
       "...          ...         ...                 ...            ...         ...   \n",
       "294924  110000.0         ARS                   1              5  buy_it_now   \n",
       "296527   65000.0         ARS                   1              1  buy_it_now   \n",
       "298984  139000.0         ARS                   1              0  buy_it_now   \n",
       "299256   84600.0         ARS                  50              2  buy_it_now   \n",
       "300279   95000.0         ARS                   1              0  buy_it_now   \n",
       "\n",
       "       listing_type_id condition  accepts_mercadopago  original_price  \\\n",
       "18            gold_pro       new                 True         76120.0   \n",
       "3489      gold_special       new                 True         76900.0   \n",
       "9320          gold_pro       new                 True         69000.0   \n",
       "9642          gold_pro       new                 True         66600.0   \n",
       "9768          gold_pro       new                 True         72000.0   \n",
       "...                ...       ...                  ...             ...   \n",
       "294924    gold_special       new                 True        110000.0   \n",
       "296527    gold_special       new                 True         65000.0   \n",
       "298984        gold_pro       new                 True        139000.0   \n",
       "299256    gold_special       new                 True         84600.0   \n",
       "300279        gold_pro       new                 True         95000.0   \n",
       "\n",
       "                         category        subcategory power_seller_status  \\\n",
       "18      Accesorios para Vehículos        Aspiradoras            platinum   \n",
       "3489    Accesorios para Vehículos   Kits de Embrague              silver   \n",
       "9320    Accesorios para Vehículos  Equipos Completos              silver   \n",
       "9642    Accesorios para Vehículos  Equipos Completos              silver   \n",
       "9768    Accesorios para Vehículos  Equipos Completos              silver   \n",
       "...                           ...                ...                 ...   \n",
       "294924           Otras categorías              Otros                gold   \n",
       "296527           Otras categorías              Otros               basic   \n",
       "298984           Otras categorías       Rigs Mineros               basic   \n",
       "299256           Otras categorías         Pirotecnia                gold   \n",
       "300279           Otras categorías              Otros               basic   \n",
       "\n",
       "        real_estate_agency  car_dealer  q_installments       state_name  \\\n",
       "18                   False       False             6.0  Capital Federal   \n",
       "3489                 False       False            12.0     Buenos Aires   \n",
       "9320                 False       False            18.0  Capital Federal   \n",
       "9642                 False       False            18.0  Capital Federal   \n",
       "9768                 False       False            18.0  Capital Federal   \n",
       "...                    ...         ...             ...              ...   \n",
       "294924               False       False            12.0         Santa Fe   \n",
       "296527               False       False            12.0  Capital Federal   \n",
       "298984               False       False             6.0  Capital Federal   \n",
       "299256               False       False            12.0  Capital Federal   \n",
       "300279               False       False             6.0     Buenos Aires   \n",
       "\n",
       "               city_name  free_shipping  logistic_type  store_pick_up  \\\n",
       "18          Villa Crespo           True  cross_docking          False   \n",
       "3489             Adrogue           True       drop_off          False   \n",
       "9320       Nueva Pompeya          False  not_specified          False   \n",
       "9642       Nueva Pompeya          False  not_specified          False   \n",
       "9768    Parque Patricios          False  not_specified          False   \n",
       "...                  ...            ...            ...            ...   \n",
       "294924      Villa Amelia           True       drop_off          False   \n",
       "296527           Palermo           True  not_specified          False   \n",
       "298984           Palermo          False  not_specified          False   \n",
       "299256   Capital Federal          False  not_specified          False   \n",
       "300279        alte browm          False  not_specified          False   \n",
       "\n",
       "        with_discount  descuento  \n",
       "18              False        0.0  \n",
       "3489            False        0.0  \n",
       "9320            False        0.0  \n",
       "9642            False        0.0  \n",
       "9768            False        0.0  \n",
       "...               ...        ...  \n",
       "294924          False        0.0  \n",
       "296527          False        0.0  \n",
       "298984          False        0.0  \n",
       "299256          False        0.0  \n",
       "300279          False        0.0  \n",
       "\n",
       "[15000 rows x 22 columns]"
      ]
     },
     "execution_count": 84,
     "metadata": {},
     "output_type": "execute_result"
    }
   ],
   "source": [
    "df_final.loc[df_final['price'] > df_final['price'].quantile(0.95)]"
   ]
  },
  {
   "cell_type": "markdown",
   "metadata": {},
   "source": [
    "Cuando se buscaron estos productos, todos parecían tener el precio adecuado. Lo que se notó fue que todos eran productos de autos o más industriales, por lo que su precio es elevado.\n",
    "\n",
    "Lógicamente, cuando se mira la cantidad de productos vendidos, suelen ser valores muy bajos o nulos. Sin embargo, se mantienen estos registros porque son datos correctos"
   ]
  },
  {
   "cell_type": "markdown",
   "metadata": {},
   "source": [
    "Me fijo cómo están distribuidas las clases a predecir, si están balanceadas o hay más cantidad de registros de una que de otras"
   ]
  },
  {
   "cell_type": "code",
   "execution_count": 85,
   "metadata": {},
   "outputs": [
    {
     "data": {
      "text/plain": [
       "<matplotlib.axes._subplots.AxesSubplot at 0x27f58fc0898>"
      ]
     },
     "execution_count": 85,
     "metadata": {},
     "output_type": "execute_result"
    },
    {
     "data": {
      "image/png": "[encoded data removed]",
      "text/plain": [
       "<Figure size 1080x720 with 1 Axes>"
      ]
     },
     "metadata": {
      "needs_background": "light"
     },
     "output_type": "display_data"
    }
   ],
   "source": [
    "# Grafico el balance de las clases\n",
    "\n",
    "plt.figure(figsize = (15,10))\n",
    "sns.countplot(df_final['sold_quantity'])"
   ]
  },
  {
   "cell_type": "markdown",
   "metadata": {},
   "source": [
    "Se ve que hay más casos de 5,0,25 y 50 que de las demás, esto puede traer un problema al momento del modelado porque las clases están levemente desbalanceadas"
   ]
  },
  {
   "cell_type": "code",
   "execution_count": 86,
   "metadata": {},
   "outputs": [],
   "source": [
    "# Separo en train y test\n",
    "# Nota: Debido a que la subcategoria tiene muchos niveles, se lo va a clasificar con un código numerico\n",
    "\n",
    "le = preprocessing.LabelEncoder()\n",
    "df_final['subcategory'] = le.fit_transform(df_final['subcategory'])"
   ]
  },
  {
   "cell_type": "markdown",
   "metadata": {},
   "source": [
    "Debido al desbalanceo de las clases, se optó por una *'primera aproximación'* que fue redefinir las clases a predecir, pasando de tener todos los rangos de cantidades que existen a tener solamente 4 rangos de cantidades vendidas, separados en base a los cuantiles.\n",
    "\n",
    "Si bien esta clasificación no es la que originalmente está en la web, tener tantas clases reducía la performance significativamente, y se resolvió de esta forma en vistas de que en un proyecto, este podría ser un primer entregable o un mínimo producto viable que puede ser consumible.\n",
    "\n",
    "Futuras etapas implicarían la mejora del modelo final que se presentará, de manera tal de lograr predecir más rangos."
   ]
  },
  {
   "cell_type": "code",
   "execution_count": 87,
   "metadata": {},
   "outputs": [],
   "source": [
    "# Separo en cuantiles la variable target\n",
    "\n",
    "df_final['target'] = df_final['sold_quantity'].apply(lambda x: 0 if x<5 else (1 if x<25 else (2 if x<100 else 3)))"
   ]
  },
  {
   "cell_type": "code",
   "execution_count": 88,
   "metadata": {},
   "outputs": [],
   "source": [
    "# Separo en train y test\n",
    "# Algunas de las variables que se excluyeron del modelo se hicieron previamente habiendo evaluado el modelo\n",
    "# en validacion, obteniendo ninguna mejora o inclusive reduciendo la performance\n",
    "# Guardo las variables descriptivas y hago OHE para obtener variables numericas \n",
    "\n",
    "X = df_final.drop(columns = ['descuento','original_price','subcategory','state_name','city_name','sold_quantity','target'], axis = 1)\n",
    "X = pd.get_dummies(X)\n",
    "keep_columns = X.columns\n",
    "# Algunas transformaciones\n",
    "# Debido a lo concentrados que estaban los precios en los valores bajos, se aplica una log transform\n",
    "# sobre los precios\n",
    "X['price'] = np.log(X['price'] + 1 - min(X['price']))\n",
    "# Guardo las variables a predecir\n",
    "y = df_final['target']\n",
    "classes = y.unique()\n",
    "\n",
    "# Separo en conjunto de testeo y validacion\n",
    "X_train, X_test, y_train, y_test = train_test_split(X, y, test_size=0.23, random_state = 42)\n",
    "\n",
    "# Normalizo (validado en conjunto de testeo)\n",
    "normalizer = StandardScaler()\n",
    "X_train = normalizer.fit_transform(X_train)\n",
    "X_test = normalizer.transform(X_test)\n",
    "\n",
    "X_train = pd.DataFrame(X_train, columns=keep_columns)\n",
    "X_test = pd.DataFrame(X_test, columns=keep_columns)"
   ]
  },
  {
   "cell_type": "code",
   "execution_count": 89,
   "metadata": {},
   "outputs": [
    {
     "name": "stdout",
     "output_type": "stream",
     "text": [
      "Se eliminaron 6 de 64 variables.\n"
     ]
    },
    {
     "name": "stderr",
     "output_type": "stream",
     "text": [
      "[Parallel(n_jobs=-1)]: Using backend ThreadingBackend with 8 concurrent workers.\n"
     ]
    },
    {
     "name": "stdout",
     "output_type": "stream",
     "text": [
      "building tree 1 of 50building tree 2 of 50\n",
      "building tree 3 of 50\n",
      "building tree 4 of 50\n",
      "building tree 5 of 50\n",
      "\n",
      "building tree 6 of 50\n",
      "building tree 7 of 50\n",
      "building tree 8 of 50\n",
      "building tree 9 of 50\n",
      "building tree 10 of 50building tree 11 of 50\n",
      "\n",
      "building tree 12 of 50\n",
      "building tree 13 of 50\n",
      "building tree 14 of 50\n",
      "building tree 15 of 50\n",
      "building tree 16 of 50\n",
      "building tree 17 of 50\n",
      "building tree 18 of 50\n",
      "building tree 19 of 50\n",
      "building tree 20 of 50\n",
      "building tree 21 of 50\n",
      "building tree 22 of 50building tree 23 of 50\n",
      "\n",
      "building tree 24 of 50\n",
      "building tree 25 of 50\n",
      "building tree 26 of 50\n",
      "building tree 27 of 50\n",
      "building tree 28 of 50\n",
      "building tree 29 of 50\n",
      "building tree 30 of 50"
     ]
    },
    {
     "name": "stderr",
     "output_type": "stream",
     "text": [
      "[Parallel(n_jobs=-1)]: Done  16 tasks      | elapsed:    0.7s\n"
     ]
    },
    {
     "name": "stdout",
     "output_type": "stream",
     "text": [
      "\n",
      "building tree 31 of 50\n",
      "building tree 32 of 50\n",
      "building tree 33 of 50\n",
      "building tree 34 of 50\n",
      "building tree 35 of 50\n",
      "building tree 36 of 50\n",
      "building tree 37 of 50\n",
      "building tree 38 of 50\n",
      "building tree 39 of 50\n",
      "building tree 40 of 50\n",
      "building tree 41 of 50\n",
      "building tree 42 of 50\n",
      "building tree 43 of 50\n",
      "building tree 44 of 50\n",
      "building tree 45 of 50\n",
      "building tree 46 of 50\n",
      "building tree 47 of 50\n",
      "building tree 48 of 50\n",
      "building tree 49 of 50\n",
      "building tree 50 of 50\n"
     ]
    },
    {
     "name": "stderr",
     "output_type": "stream",
     "text": [
      "[Parallel(n_jobs=-1)]: Done  50 out of  50 | elapsed:    1.9s finished\n",
      "[Parallel(n_jobs=-1)]: Using backend ThreadingBackend with 8 concurrent workers.\n"
     ]
    },
    {
     "name": "stdout",
     "output_type": "stream",
     "text": [
      "building tree 1 of 50building tree 2 of 50\n",
      "\n",
      "building tree 3 of 50\n",
      "building tree 4 of 50building tree 5 of 50\n",
      "\n",
      "building tree 6 of 50building tree 7 of 50\n",
      "building tree 8 of 50\n",
      "\n",
      "building tree 9 of 50\n",
      "building tree 10 of 50building tree 11 of 50\n",
      "\n",
      "building tree 12 of 50\n",
      "building tree 13 of 50\n",
      "building tree 14 of 50\n",
      "building tree 15 of 50\n",
      "building tree 16 of 50\n",
      "building tree 17 of 50building tree 18 of 50\n",
      "\n",
      "building tree 19 of 50\n",
      "building tree 20 of 50\n",
      "building tree 21 of 50\n",
      "building tree 22 of 50\n",
      "building tree 23 of 50\n",
      "building tree 24 of 50\n"
     ]
    },
    {
     "name": "stderr",
     "output_type": "stream",
     "text": [
      "[Parallel(n_jobs=-1)]: Done  16 tasks      | elapsed:    0.7s\n"
     ]
    },
    {
     "name": "stdout",
     "output_type": "stream",
     "text": [
      "building tree 25 of 50\n",
      "building tree 26 of 50\n",
      "building tree 27 of 50\n",
      "building tree 28 of 50\n",
      "building tree 29 of 50\n",
      "building tree 30 of 50\n",
      "building tree 31 of 50\n",
      "building tree 32 of 50\n",
      "building tree 33 of 50\n",
      "building tree 34 of 50\n",
      "building tree 35 of 50\n",
      "building tree 36 of 50\n",
      "building tree 37 of 50\n",
      "building tree 38 of 50\n",
      "building tree 39 of 50\n",
      "building tree 40 of 50\n",
      "building tree 41 of 50building tree 42 of 50\n",
      "\n",
      "building tree 43 of 50\n",
      "building tree 44 of 50\n",
      "building tree 45 of 50\n",
      "building tree 46 of 50\n",
      "building tree 47 of 50\n",
      "building tree 48 of 50\n",
      "building tree 49 of 50\n",
      "building tree 50 of 50\n"
     ]
    },
    {
     "name": "stderr",
     "output_type": "stream",
     "text": [
      "[Parallel(n_jobs=-1)]: Done  50 out of  50 | elapsed:    1.9s finished\n",
      "[Parallel(n_jobs=-1)]: Using backend ThreadingBackend with 8 concurrent workers.\n"
     ]
    },
    {
     "name": "stdout",
     "output_type": "stream",
     "text": [
      "building tree 1 of 50building tree 2 of 50\n",
      "\n",
      "building tree 3 of 50\n",
      "building tree 4 of 50\n",
      "building tree 5 of 50\n",
      "building tree 6 of 50\n",
      "building tree 7 of 50\n",
      "building tree 8 of 50\n",
      "building tree 9 of 50\n",
      "building tree 10 of 50\n",
      "building tree 11 of 50\n",
      "building tree 12 of 50\n",
      "building tree 13 of 50\n",
      "building tree 14 of 50\n",
      "building tree 15 of 50\n",
      "building tree 16 of 50\n",
      "building tree 17 of 50\n",
      "building tree 18 of 50\n",
      "building tree 19 of 50\n",
      "building tree 20 of 50\n",
      "building tree 21 of 50\n",
      "building tree 22 of 50\n",
      "building tree 23 of 50\n",
      "building tree 24 of 50\n",
      "building tree 25 of 50\n",
      "building tree 26 of 50\n",
      "building tree 27 of 50\n",
      "building tree 28 of 50\n",
      "building tree 29 of 50"
     ]
    },
    {
     "name": "stderr",
     "output_type": "stream",
     "text": [
      "[Parallel(n_jobs=-1)]: Done  16 tasks      | elapsed:    0.7s\n"
     ]
    },
    {
     "name": "stdout",
     "output_type": "stream",
     "text": [
      "\n",
      "building tree 30 of 50\n",
      "building tree 31 of 50\n",
      "building tree 32 of 50\n",
      "building tree 33 of 50\n",
      "building tree 34 of 50\n",
      "building tree 35 of 50\n",
      "building tree 36 of 50\n",
      "building tree 37 of 50\n",
      "building tree 38 of 50\n",
      "building tree 39 of 50\n",
      "building tree 40 of 50\n",
      "building tree 41 of 50\n",
      "building tree 42 of 50\n",
      "building tree 43 of 50\n",
      "building tree 44 of 50\n",
      "building tree 45 of 50\n",
      "building tree 46 of 50\n",
      "building tree 47 of 50\n",
      "building tree 48 of 50\n",
      "building tree 49 of 50\n",
      "building tree 50 of 50\n"
     ]
    },
    {
     "name": "stderr",
     "output_type": "stream",
     "text": [
      "[Parallel(n_jobs=-1)]: Done  50 out of  50 | elapsed:    1.9s finished\n",
      "[Parallel(n_jobs=-1)]: Using backend ThreadingBackend with 8 concurrent workers.\n"
     ]
    },
    {
     "name": "stdout",
     "output_type": "stream",
     "text": [
      "building tree 1 of 50building tree 2 of 50\n",
      "building tree 3 of 50\n",
      "building tree 4 of 50\n",
      "\n",
      "building tree 5 of 50\n",
      "building tree 6 of 50\n",
      "building tree 7 of 50\n",
      "building tree 8 of 50\n",
      "building tree 9 of 50\n",
      "building tree 10 of 50\n",
      "building tree 11 of 50\n",
      "building tree 12 of 50\n",
      "building tree 13 of 50\n",
      "building tree 14 of 50\n",
      "building tree 15 of 50\n",
      "building tree 16 of 50\n",
      "building tree 17 of 50building tree 18 of 50\n",
      "\n",
      "building tree 19 of 50\n",
      "building tree 20 of 50\n",
      "building tree 21 of 50\n",
      "building tree 22 of 50\n",
      "building tree 23 of 50\n",
      "building tree 24 of 50\n"
     ]
    },
    {
     "name": "stderr",
     "output_type": "stream",
     "text": [
      "[Parallel(n_jobs=-1)]: Done  16 tasks      | elapsed:    0.7s\n"
     ]
    },
    {
     "name": "stdout",
     "output_type": "stream",
     "text": [
      "building tree 25 of 50\n",
      "building tree 26 of 50\n",
      "building tree 27 of 50\n",
      "building tree 28 of 50\n",
      "building tree 29 of 50\n",
      "building tree 30 of 50\n",
      "building tree 31 of 50\n",
      "building tree 32 of 50\n",
      "building tree 33 of 50\n",
      "building tree 34 of 50\n",
      "building tree 35 of 50\n",
      "building tree 36 of 50\n",
      "building tree 37 of 50\n",
      "building tree 38 of 50\n",
      "building tree 39 of 50\n",
      "building tree 40 of 50\n",
      "building tree 41 of 50\n",
      "building tree 42 of 50\n",
      "building tree 43 of 50\n",
      "building tree 44 of 50\n",
      "building tree 45 of 50\n",
      "building tree 46 of 50\n",
      "building tree 47 of 50\n",
      "building tree 48 of 50\n",
      "building tree 49 of 50\n",
      "building tree 50 of 50\n"
     ]
    },
    {
     "name": "stderr",
     "output_type": "stream",
     "text": [
      "[Parallel(n_jobs=-1)]: Done  50 out of  50 | elapsed:    2.0s finished\n",
      "[Parallel(n_jobs=-1)]: Using backend ThreadingBackend with 8 concurrent workers.\n"
     ]
    },
    {
     "name": "stdout",
     "output_type": "stream",
     "text": [
      "building tree 1 of 50building tree 2 of 50\n",
      "\n",
      "building tree 3 of 50building tree 4 of 50\n",
      "\n",
      "building tree 5 of 50building tree 6 of 50\n",
      "building tree 7 of 50\n",
      "\n",
      "building tree 8 of 50\n",
      "building tree 9 of 50\n",
      "building tree 10 of 50building tree 11 of 50\n",
      "\n",
      "building tree 12 of 50\n",
      "building tree 13 of 50\n",
      "building tree 14 of 50\n",
      "building tree 15 of 50\n",
      "building tree 16 of 50\n",
      "building tree 17 of 50\n",
      "building tree 18 of 50\n",
      "building tree 19 of 50\n",
      "building tree 20 of 50\n",
      "building tree 21 of 50\n",
      "building tree 22 of 50\n",
      "building tree 23 of 50\n",
      "building tree 24 of 50\n"
     ]
    },
    {
     "name": "stderr",
     "output_type": "stream",
     "text": [
      "[Parallel(n_jobs=-1)]: Done  16 tasks      | elapsed:    0.7s\n"
     ]
    },
    {
     "name": "stdout",
     "output_type": "stream",
     "text": [
      "building tree 25 of 50\n",
      "building tree 26 of 50\n",
      "building tree 27 of 50\n",
      "building tree 28 of 50\n",
      "building tree 29 of 50\n",
      "building tree 30 of 50\n",
      "building tree 31 of 50\n",
      "building tree 32 of 50\n",
      "building tree 33 of 50\n",
      "building tree 34 of 50\n",
      "building tree 35 of 50\n",
      "building tree 36 of 50\n",
      "building tree 37 of 50\n",
      "building tree 38 of 50\n",
      "building tree 39 of 50\n",
      "building tree 40 of 50\n",
      "building tree 41 of 50\n",
      "building tree 42 of 50\n",
      "building tree 43 of 50\n",
      "building tree 44 of 50\n",
      "building tree 45 of 50\n",
      "building tree 46 of 50\n",
      "building tree 47 of 50building tree 48 of 50\n",
      "\n",
      "building tree 49 of 50\n",
      "building tree 50 of 50\n"
     ]
    },
    {
     "name": "stderr",
     "output_type": "stream",
     "text": [
      "[Parallel(n_jobs=-1)]: Done  50 out of  50 | elapsed:    2.1s finished\n"
     ]
    },
    {
     "name": "stdout",
     "output_type": "stream",
     "text": [
      "                                feacture  ranking\n",
      "0                          condition_new      0.0\n",
      "1                         q_installments      1.0\n",
      "2           listing_type_id_gold_premium      2.0\n",
      "3                         condition_used      3.0\n",
      "4           listing_type_id_gold_special      4.0\n",
      "..                                   ...      ...\n",
      "54  category_Salud y Equipamiento Médico     54.0\n",
      "55            category_Juegos y Juguetes     55.0\n",
      "56                  logistic_type_custom     56.0\n",
      "57                        category_Bebés     57.0\n",
      "58                  listing_type_id_free     58.0\n",
      "\n",
      "[59 rows x 2 columns]\n",
      "Se eliminaron 8 de 58 variables.\n"
     ]
    }
   ],
   "source": [
    "# Elimino variables correlacionadas\n",
    "\n",
    "del_var = corr_elimination(X_train, max_corr = 0.8)\n",
    "X_train = X_train.drop(labels = del_var, axis = 1)\n",
    "X_test  = X_test.drop(labels  = del_var, axis = 1)\n",
    "\n",
    "# Elimino variables poco relevantes\n",
    "\n",
    "del_var = forest_elimination(X_train, y_train, total = 5)\n",
    "X_train = X_train.drop(labels = [*del_var,'random'], axis = 1)\n",
    "X_test  = X_test.drop(labels  = del_var, axis = 1)"
   ]
  },
  {
   "cell_type": "markdown",
   "metadata": {},
   "source": [
    "## Logistic Regression"
   ]
  },
  {
   "cell_type": "code",
   "execution_count": 49,
   "metadata": {},
   "outputs": [
    {
     "name": "stderr",
     "output_type": "stream",
     "text": [
      "C:\\Users\\elosasso\\AppData\\Local\\Continuum\\anaconda3\\lib\\site-packages\\sklearn\\linear_model\\sag.py:337: ConvergenceWarning: The max_iter was reached which means the coef_ did not converge\n",
      "  \"the coef_ did not converge\", ConvergenceWarning)\n"
     ]
    },
    {
     "name": "stdout",
     "output_type": "stream",
     "text": [
      "training score : 0.376 (multinomial)\n"
     ]
    }
   ],
   "source": [
    "# Creo elemento LogisticRegression y fiteo sobre los datos de entrenamiento \n",
    "\n",
    "clf = LogisticRegression(solver='sag', max_iter=100, random_state=42,\n",
    "                             multi_class = 'multinomial').fit(X_train, y_train)\n",
    "\n",
    "# Evaluo el desempeño en train y test\n",
    "print(\"training score : %.3f (%s)\" % (clf.score(X_train, y_train), 'multinomial'))"
   ]
  },
  {
   "cell_type": "markdown",
   "metadata": {},
   "source": [
    "# Random Forest"
   ]
  },
  {
   "cell_type": "code",
   "execution_count": 90,
   "metadata": {},
   "outputs": [],
   "source": [
    "from sklearn.ensemble import RandomForestClassifier\n",
    "classifier = RandomForestClassifier(n_estimators = 200, criterion = 'entropy', random_state = 0\n",
    "                                    ,max_depth = 22)\n",
    "# Entreno el modelo\n",
    "classifier.fit(X_train, y_train)\n",
    "\n",
    "# Hago una prediccion\n",
    "y_pred = classifier.predict(X_test)\n",
    "\n",
    "# Creo la matriz de confusion\n",
    "from sklearn.metrics import confusion_matrix\n",
    "cm = confusion_matrix(y_test, y_pred, labels = classes)\n"
   ]
  },
  {
   "cell_type": "code",
   "execution_count": 91,
   "metadata": {},
   "outputs": [
    {
     "data": {
      "image/png": "[encoded data removed]",
      "text/plain": [
       "<Figure size 1080x720 with 1 Axes>"
      ]
     },
     "metadata": {
      "needs_background": "light"
     },
     "output_type": "display_data"
    }
   ],
   "source": [
    "# Visualizo matriz de confusion\n",
    "\n",
    "plot_CM(cm,classes)"
   ]
  },
  {
   "cell_type": "code",
   "execution_count": 93,
   "metadata": {},
   "outputs": [
    {
     "name": "stdout",
     "output_type": "stream",
     "text": [
      "              precision    recall  f1-score   support\n",
      "\n",
      "           0       0.81      0.78      0.80     15031\n",
      "           1       0.48      0.41      0.44     16346\n",
      "           2       0.44      0.52      0.47     19211\n",
      "           3       0.60      0.57      0.59     18479\n",
      "\n",
      "    accuracy                           0.57     69067\n",
      "   macro avg       0.58      0.57      0.57     69067\n",
      "weighted avg       0.57      0.57      0.57     69067\n",
      "\n"
     ]
    }
   ],
   "source": [
    "# Evaluacion del modelo según metricas más comunes \n",
    "\n",
    "print(classification_report(y_test, y_pred))"
   ]
  },
  {
   "cell_type": "markdown",
   "metadata": {},
   "source": [
    "# Neural Network"
   ]
  },
  {
   "cell_type": "code",
   "execution_count": 95,
   "metadata": {},
   "outputs": [
    {
     "name": "stdout",
     "output_type": "stream",
     "text": [
      "Model: \"sequential_2\"\n",
      "_________________________________________________________________\n",
      "Layer (type)                 Output Shape              Param #   \n",
      "=================================================================\n",
      "dense_3 (Dense)              (None, 12)                612       \n",
      "_________________________________________________________________\n",
      "dropout_2 (Dropout)          (None, 12)                0         \n",
      "_________________________________________________________________\n",
      "dense_4 (Dense)              (None, 4)                 52        \n",
      "=================================================================\n",
      "Total params: 664\n",
      "Trainable params: 664\n",
      "Non-trainable params: 0\n",
      "_________________________________________________________________\n",
      "WARNING:tensorflow:From C:\\Users\\elosasso\\AppData\\Local\\Continuum\\anaconda3\\lib\\site-packages\\keras\\backend\\tensorflow_backend.py:1033: The name tf.assign_add is deprecated. Please use tf.compat.v1.assign_add instead.\n",
      "\n",
      "Train on 184976 samples, validate on 46244 samples\n",
      "Epoch 1/200\n",
      " - 11s - loss: 0.5305 - acc: 0.7640 - val_loss: 0.4370 - val_acc: 0.7909\n",
      "Epoch 2/200\n",
      " - 10s - loss: 0.4486 - acc: 0.7869 - val_loss: 0.4226 - val_acc: 0.7944\n",
      "Epoch 3/200\n",
      " - 10s - loss: 0.4394 - acc: 0.7886 - val_loss: 0.4188 - val_acc: 0.7947\n",
      "Epoch 4/200\n",
      " - 11s - loss: 0.4359 - acc: 0.7889 - val_loss: 0.4172 - val_acc: 0.7951\n",
      "Epoch 5/200\n",
      " - 10s - loss: 0.4337 - acc: 0.7889 - val_loss: 0.4157 - val_acc: 0.7955\n",
      "Epoch 6/200\n",
      " - 11s - loss: 0.4331 - acc: 0.7888 - val_loss: 0.4154 - val_acc: 0.7948\n",
      "Epoch 7/200\n",
      " - 10s - loss: 0.4324 - acc: 0.7888 - val_loss: 0.4145 - val_acc: 0.7953\n",
      "Epoch 8/200\n",
      " - 10s - loss: 0.4321 - acc: 0.7888 - val_loss: 0.4144 - val_acc: 0.7952\n",
      "Epoch 9/200\n",
      " - 10s - loss: 0.4320 - acc: 0.7887 - val_loss: 0.4146 - val_acc: 0.7949\n",
      "Epoch 10/200\n",
      " - 10s - loss: 0.4317 - acc: 0.7890 - val_loss: 0.4141 - val_acc: 0.7950\n",
      "Epoch 11/200\n",
      " - 10s - loss: 0.4314 - acc: 0.7888 - val_loss: 0.4145 - val_acc: 0.7947\n",
      "Epoch 12/200\n",
      " - 11s - loss: 0.4309 - acc: 0.7889 - val_loss: 0.4143 - val_acc: 0.7950\n",
      "Epoch 13/200\n",
      " - 10s - loss: 0.4315 - acc: 0.7885 - val_loss: 0.4143 - val_acc: 0.7946\n",
      "Epoch 14/200\n",
      " - 11s - loss: 0.4311 - acc: 0.7889 - val_loss: 0.4141 - val_acc: 0.7946\n",
      "Epoch 15/200\n",
      " - 11s - loss: 0.4310 - acc: 0.7890 - val_loss: 0.4138 - val_acc: 0.7952\n",
      "Epoch 16/200\n",
      " - 10s - loss: 0.4309 - acc: 0.7888 - val_loss: 0.4141 - val_acc: 0.7950\n",
      "Epoch 17/200\n",
      " - 10s - loss: 0.4313 - acc: 0.7888 - val_loss: 0.4139 - val_acc: 0.7946\n",
      "Epoch 18/200\n",
      " - 10s - loss: 0.4311 - acc: 0.7887 - val_loss: 0.4139 - val_acc: 0.7950\n",
      "Epoch 19/200\n",
      " - 11s - loss: 0.4309 - acc: 0.7889 - val_loss: 0.4139 - val_acc: 0.7948\n",
      "Epoch 20/200\n",
      " - 11s - loss: 0.4308 - acc: 0.7887 - val_loss: 0.4140 - val_acc: 0.7953\n",
      "Epoch 21/200\n",
      " - 10s - loss: 0.4309 - acc: 0.7888 - val_loss: 0.4135 - val_acc: 0.7954\n",
      "Epoch 22/200\n",
      " - 11s - loss: 0.4307 - acc: 0.7889 - val_loss: 0.4134 - val_acc: 0.7950\n",
      "Epoch 23/200\n",
      " - 11s - loss: 0.4306 - acc: 0.7889 - val_loss: 0.4138 - val_acc: 0.7951\n",
      "Epoch 24/200\n",
      " - 10s - loss: 0.4308 - acc: 0.7889 - val_loss: 0.4138 - val_acc: 0.7950\n",
      "Epoch 25/200\n",
      " - 10s - loss: 0.4306 - acc: 0.7889 - val_loss: 0.4136 - val_acc: 0.7954\n",
      "Epoch 26/200\n",
      " - 11s - loss: 0.4311 - acc: 0.7888 - val_loss: 0.4137 - val_acc: 0.7953\n",
      "Epoch 27/200\n",
      " - 11s - loss: 0.4309 - acc: 0.7886 - val_loss: 0.4133 - val_acc: 0.7954\n",
      "Epoch 28/200\n",
      " - 10s - loss: 0.4310 - acc: 0.7887 - val_loss: 0.4136 - val_acc: 0.7953\n",
      "Epoch 29/200\n",
      " - 11s - loss: 0.4306 - acc: 0.7890 - val_loss: 0.4137 - val_acc: 0.7954\n",
      "Epoch 30/200\n",
      " - 10s - loss: 0.4310 - acc: 0.7889 - val_loss: 0.4137 - val_acc: 0.7955\n",
      "Epoch 31/200\n",
      " - 10s - loss: 0.4311 - acc: 0.7886 - val_loss: 0.4138 - val_acc: 0.7952\n",
      "Epoch 32/200\n",
      " - 10s - loss: 0.4308 - acc: 0.7888 - val_loss: 0.4136 - val_acc: 0.7955\n",
      "Epoch 33/200\n",
      " - 10s - loss: 0.4311 - acc: 0.7887 - val_loss: 0.4139 - val_acc: 0.7953\n",
      "Epoch 34/200\n",
      " - 10s - loss: 0.4307 - acc: 0.7888 - val_loss: 0.4138 - val_acc: 0.7949\n",
      "Epoch 35/200\n",
      " - 10s - loss: 0.4306 - acc: 0.7889 - val_loss: 0.4134 - val_acc: 0.7955\n",
      "Epoch 36/200\n",
      " - 10s - loss: 0.4303 - acc: 0.7893 - val_loss: 0.4140 - val_acc: 0.7950\n",
      "Epoch 37/200\n",
      " - 11s - loss: 0.4305 - acc: 0.7888 - val_loss: 0.4133 - val_acc: 0.7952\n",
      "Epoch 38/200\n",
      " - 10s - loss: 0.4300 - acc: 0.7893 - val_loss: 0.4134 - val_acc: 0.7954\n",
      "Epoch 39/200\n",
      " - 10s - loss: 0.4309 - acc: 0.7889 - val_loss: 0.4138 - val_acc: 0.7954\n",
      "Epoch 40/200\n",
      " - 10s - loss: 0.4306 - acc: 0.7890 - val_loss: 0.4138 - val_acc: 0.7953\n",
      "Epoch 41/200\n",
      " - 10s - loss: 0.4307 - acc: 0.7888 - val_loss: 0.4133 - val_acc: 0.7958\n",
      "Epoch 42/200\n",
      " - 10s - loss: 0.4307 - acc: 0.7891 - val_loss: 0.4134 - val_acc: 0.7952\n",
      "Epoch 43/200\n",
      " - 10s - loss: 0.4306 - acc: 0.7889 - val_loss: 0.4136 - val_acc: 0.7951\n",
      "Epoch 44/200\n",
      " - 10s - loss: 0.4307 - acc: 0.7891 - val_loss: 0.4139 - val_acc: 0.7951\n",
      "Epoch 45/200\n",
      " - 10s - loss: 0.4307 - acc: 0.7889 - val_loss: 0.4136 - val_acc: 0.7955\n",
      "Epoch 46/200\n",
      " - 10s - loss: 0.4307 - acc: 0.7890 - val_loss: 0.4135 - val_acc: 0.7953\n",
      "Epoch 47/200\n",
      " - 10s - loss: 0.4308 - acc: 0.7887 - val_loss: 0.4133 - val_acc: 0.7954\n",
      "Epoch 48/200\n",
      " - 10s - loss: 0.4305 - acc: 0.7889 - val_loss: 0.4140 - val_acc: 0.7953\n",
      "Epoch 49/200\n",
      " - 10s - loss: 0.4306 - acc: 0.7888 - val_loss: 0.4135 - val_acc: 0.7955\n",
      "Epoch 50/200\n",
      " - 11s - loss: 0.4302 - acc: 0.7891 - val_loss: 0.4133 - val_acc: 0.7957\n",
      "Epoch 51/200\n",
      " - 10s - loss: 0.4304 - acc: 0.7892 - val_loss: 0.4135 - val_acc: 0.7956\n",
      "Epoch 52/200\n",
      " - 10s - loss: 0.4308 - acc: 0.7888 - val_loss: 0.4138 - val_acc: 0.7954\n",
      "Epoch 53/200\n",
      " - 10s - loss: 0.4310 - acc: 0.7886 - val_loss: 0.4136 - val_acc: 0.7951\n",
      "Epoch 54/200\n",
      " - 10s - loss: 0.4305 - acc: 0.7890 - val_loss: 0.4136 - val_acc: 0.7953\n",
      "Epoch 55/200\n",
      " - 10s - loss: 0.4307 - acc: 0.7892 - val_loss: 0.4133 - val_acc: 0.7953\n",
      "Epoch 56/200\n",
      " - 10s - loss: 0.4313 - acc: 0.7887 - val_loss: 0.4138 - val_acc: 0.7953\n",
      "Epoch 57/200\n",
      " - 11s - loss: 0.4306 - acc: 0.7890 - val_loss: 0.4135 - val_acc: 0.7954\n",
      "Epoch 58/200\n",
      " - 10s - loss: 0.4309 - acc: 0.7887 - val_loss: 0.4134 - val_acc: 0.7954\n",
      "Epoch 59/200\n",
      " - 10s - loss: 0.4309 - acc: 0.7887 - val_loss: 0.4136 - val_acc: 0.7952\n",
      "Epoch 60/200\n",
      " - 10s - loss: 0.4304 - acc: 0.7892 - val_loss: 0.4135 - val_acc: 0.7952\n",
      "Epoch 61/200\n",
      " - 10s - loss: 0.4306 - acc: 0.7889 - val_loss: 0.4138 - val_acc: 0.7950\n",
      "Epoch 62/200\n",
      " - 10s - loss: 0.4309 - acc: 0.7889 - val_loss: 0.4136 - val_acc: 0.7950\n",
      "Epoch 63/200\n",
      " - 10s - loss: 0.4310 - acc: 0.7886 - val_loss: 0.4139 - val_acc: 0.7953\n",
      "Epoch 64/200\n",
      " - 10s - loss: 0.4305 - acc: 0.7891 - val_loss: 0.4141 - val_acc: 0.7953\n",
      "Epoch 65/200\n",
      " - 10s - loss: 0.4310 - acc: 0.7886 - val_loss: 0.4137 - val_acc: 0.7952\n",
      "Epoch 66/200\n",
      " - 10s - loss: 0.4305 - acc: 0.7890 - val_loss: 0.4137 - val_acc: 0.7952\n",
      "Epoch 67/200\n",
      " - 10s - loss: 0.4311 - acc: 0.7887 - val_loss: 0.4135 - val_acc: 0.7955\n",
      "Epoch 68/200\n",
      " - 10s - loss: 0.4306 - acc: 0.7891 - val_loss: 0.4136 - val_acc: 0.7956\n",
      "Epoch 69/200\n",
      " - 10s - loss: 0.4308 - acc: 0.7884 - val_loss: 0.4135 - val_acc: 0.7955\n",
      "Epoch 70/200\n",
      " - 10s - loss: 0.4305 - acc: 0.7889 - val_loss: 0.4134 - val_acc: 0.7955\n",
      "Epoch 71/200\n",
      " - 10s - loss: 0.4310 - acc: 0.7889 - val_loss: 0.4138 - val_acc: 0.7953\n",
      "Epoch 72/200\n",
      " - 10s - loss: 0.4307 - acc: 0.7891 - val_loss: 0.4139 - val_acc: 0.7953\n",
      "Epoch 73/200\n",
      " - 10s - loss: 0.4308 - acc: 0.7889 - val_loss: 0.4133 - val_acc: 0.7955\n",
      "Epoch 74/200\n",
      " - 11s - loss: 0.4308 - acc: 0.7889 - val_loss: 0.4132 - val_acc: 0.7957\n",
      "Epoch 75/200\n",
      " - 10s - loss: 0.4304 - acc: 0.7891 - val_loss: 0.4140 - val_acc: 0.7949\n",
      "Epoch 76/200\n",
      " - 11s - loss: 0.4309 - acc: 0.7888 - val_loss: 0.4133 - val_acc: 0.7956\n",
      "Epoch 77/200\n",
      " - 10s - loss: 0.4308 - acc: 0.7889 - val_loss: 0.4137 - val_acc: 0.7956\n",
      "Epoch 78/200\n",
      " - 10s - loss: 0.4306 - acc: 0.7892 - val_loss: 0.4135 - val_acc: 0.7954\n",
      "Epoch 79/200\n",
      " - 10s - loss: 0.4306 - acc: 0.7892 - val_loss: 0.4137 - val_acc: 0.7953\n",
      "Epoch 80/200\n",
      " - 10s - loss: 0.4310 - acc: 0.7887 - val_loss: 0.4135 - val_acc: 0.7952\n",
      "Epoch 81/200\n",
      " - 10s - loss: 0.4307 - acc: 0.7892 - val_loss: 0.4135 - val_acc: 0.7950\n",
      "Epoch 82/200\n",
      " - 10s - loss: 0.4305 - acc: 0.7891 - val_loss: 0.4134 - val_acc: 0.7954\n",
      "Epoch 83/200\n",
      " - 10s - loss: 0.4307 - acc: 0.7892 - val_loss: 0.4135 - val_acc: 0.7952\n",
      "Epoch 84/200\n",
      " - 10s - loss: 0.4307 - acc: 0.7890 - val_loss: 0.4135 - val_acc: 0.7954\n"
     ]
    },
    {
     "name": "stdout",
     "output_type": "stream",
     "text": [
      "Epoch 85/200\n",
      " - 10s - loss: 0.4304 - acc: 0.7891 - val_loss: 0.4136 - val_acc: 0.7954\n",
      "Epoch 86/200\n",
      " - 10s - loss: 0.4305 - acc: 0.7890 - val_loss: 0.4137 - val_acc: 0.7955\n",
      "Epoch 87/200\n",
      " - 10s - loss: 0.4310 - acc: 0.7887 - val_loss: 0.4141 - val_acc: 0.7950\n",
      "Epoch 88/200\n",
      " - 10s - loss: 0.4308 - acc: 0.7887 - val_loss: 0.4133 - val_acc: 0.7958\n",
      "Epoch 89/200\n",
      " - 11s - loss: 0.4306 - acc: 0.7891 - val_loss: 0.4134 - val_acc: 0.7954\n",
      "Epoch 90/200\n",
      " - 10s - loss: 0.4310 - acc: 0.7887 - val_loss: 0.4135 - val_acc: 0.7955\n",
      "Epoch 91/200\n",
      " - 10s - loss: 0.4307 - acc: 0.7887 - val_loss: 0.4136 - val_acc: 0.7955\n",
      "Epoch 92/200\n",
      " - 10s - loss: 0.4309 - acc: 0.7887 - val_loss: 0.4136 - val_acc: 0.7952\n",
      "Epoch 93/200\n",
      " - 10s - loss: 0.4302 - acc: 0.7891 - val_loss: 0.4137 - val_acc: 0.7952\n",
      "Epoch 94/200\n",
      " - 11s - loss: 0.4306 - acc: 0.7891 - val_loss: 0.4136 - val_acc: 0.7953\n",
      "Epoch 95/200\n",
      " - 10s - loss: 0.4307 - acc: 0.7888 - val_loss: 0.4135 - val_acc: 0.7954\n",
      "Epoch 96/200\n",
      " - 10s - loss: 0.4306 - acc: 0.7889 - val_loss: 0.4136 - val_acc: 0.7953\n",
      "Epoch 97/200\n",
      " - 10s - loss: 0.4308 - acc: 0.7888 - val_loss: 0.4135 - val_acc: 0.7952\n",
      "Epoch 98/200\n",
      " - 10s - loss: 0.4309 - acc: 0.7887 - val_loss: 0.4137 - val_acc: 0.7952\n",
      "Epoch 99/200\n",
      " - 10s - loss: 0.4305 - acc: 0.7891 - val_loss: 0.4135 - val_acc: 0.7955\n",
      "Epoch 100/200\n",
      " - 11s - loss: 0.4306 - acc: 0.7892 - val_loss: 0.4137 - val_acc: 0.7948\n",
      "Epoch 101/200\n",
      " - 10s - loss: 0.4311 - acc: 0.7889 - val_loss: 0.4136 - val_acc: 0.7953\n",
      "Epoch 102/200\n",
      " - 10s - loss: 0.4305 - acc: 0.7888 - val_loss: 0.4134 - val_acc: 0.7957\n",
      "Epoch 103/200\n",
      " - 10s - loss: 0.4305 - acc: 0.7890 - val_loss: 0.4135 - val_acc: 0.7954\n",
      "Epoch 104/200\n",
      " - 10s - loss: 0.4311 - acc: 0.7889 - val_loss: 0.4136 - val_acc: 0.7953\n",
      "Epoch 105/200\n",
      " - 10s - loss: 0.4305 - acc: 0.7889 - val_loss: 0.4137 - val_acc: 0.7952\n",
      "Epoch 106/200\n",
      " - 11s - loss: 0.4307 - acc: 0.7888 - val_loss: 0.4136 - val_acc: 0.7953\n",
      "Epoch 107/200\n",
      " - 9s - loss: 0.4309 - acc: 0.7887 - val_loss: 0.4138 - val_acc: 0.7951\n",
      "Epoch 108/200\n",
      " - 13s - loss: 0.4305 - acc: 0.7891 - val_loss: 0.4134 - val_acc: 0.7952\n",
      "Epoch 109/200\n",
      " - 10s - loss: 0.4309 - acc: 0.7888 - val_loss: 0.4136 - val_acc: 0.7953\n",
      "Epoch 110/200\n",
      " - 9s - loss: 0.4308 - acc: 0.7891 - val_loss: 0.4135 - val_acc: 0.7955\n",
      "Epoch 111/200\n",
      " - 9s - loss: 0.4306 - acc: 0.7889 - val_loss: 0.4135 - val_acc: 0.7953\n",
      "Epoch 112/200\n",
      " - 9s - loss: 0.4305 - acc: 0.7891 - val_loss: 0.4134 - val_acc: 0.7952\n",
      "Epoch 113/200\n",
      " - 9s - loss: 0.4310 - acc: 0.7891 - val_loss: 0.4136 - val_acc: 0.7955\n",
      "Epoch 114/200\n",
      " - 10s - loss: 0.4306 - acc: 0.7887 - val_loss: 0.4133 - val_acc: 0.7957\n",
      "Epoch 115/200\n",
      " - 9s - loss: 0.4308 - acc: 0.7891 - val_loss: 0.4137 - val_acc: 0.7954\n",
      "Epoch 116/200\n",
      " - 9s - loss: 0.4303 - acc: 0.7890 - val_loss: 0.4135 - val_acc: 0.7954\n",
      "Epoch 117/200\n",
      " - 9s - loss: 0.4308 - acc: 0.7889 - val_loss: 0.4134 - val_acc: 0.7954\n",
      "Epoch 118/200\n",
      " - 10s - loss: 0.4307 - acc: 0.7890 - val_loss: 0.4138 - val_acc: 0.7951\n",
      "Epoch 119/200\n",
      " - 9s - loss: 0.4309 - acc: 0.7886 - val_loss: 0.4139 - val_acc: 0.7952\n",
      "Epoch 120/200\n",
      " - 9s - loss: 0.4306 - acc: 0.7888 - val_loss: 0.4136 - val_acc: 0.7953\n",
      "Epoch 121/200\n",
      " - 9s - loss: 0.4306 - acc: 0.7888 - val_loss: 0.4138 - val_acc: 0.7955\n",
      "Epoch 122/200\n",
      " - 9s - loss: 0.4305 - acc: 0.7890 - val_loss: 0.4134 - val_acc: 0.7957\n",
      "Epoch 123/200\n",
      " - 9s - loss: 0.4312 - acc: 0.7888 - val_loss: 0.4134 - val_acc: 0.7955\n",
      "Epoch 124/200\n",
      " - 9s - loss: 0.4305 - acc: 0.7892 - val_loss: 0.4135 - val_acc: 0.7951\n",
      "Epoch 125/200\n",
      " - 9s - loss: 0.4306 - acc: 0.7891 - val_loss: 0.4137 - val_acc: 0.7954\n",
      "Epoch 126/200\n",
      " - 9s - loss: 0.4306 - acc: 0.7891 - val_loss: 0.4134 - val_acc: 0.7954\n",
      "Epoch 127/200\n",
      " - 9s - loss: 0.4312 - acc: 0.7887 - val_loss: 0.4134 - val_acc: 0.7957\n",
      "Epoch 128/200\n",
      " - 10s - loss: 0.4310 - acc: 0.7890 - val_loss: 0.4135 - val_acc: 0.7954\n",
      "Epoch 129/200\n",
      " - 9s - loss: 0.4313 - acc: 0.7886 - val_loss: 0.4142 - val_acc: 0.7949\n",
      "Epoch 130/200\n",
      " - 9s - loss: 0.4309 - acc: 0.7888 - val_loss: 0.4138 - val_acc: 0.7953\n",
      "Epoch 131/200\n",
      " - 9s - loss: 0.4310 - acc: 0.7889 - val_loss: 0.4135 - val_acc: 0.7952\n",
      "Epoch 132/200\n",
      " - 9s - loss: 0.4307 - acc: 0.7891 - val_loss: 0.4136 - val_acc: 0.7950\n",
      "Epoch 133/200\n",
      " - 9s - loss: 0.4308 - acc: 0.7889 - val_loss: 0.4134 - val_acc: 0.7959\n",
      "Epoch 134/200\n",
      " - 10s - loss: 0.4310 - acc: 0.7885 - val_loss: 0.4138 - val_acc: 0.7952\n",
      "Epoch 135/200\n",
      " - 10s - loss: 0.4310 - acc: 0.7889 - val_loss: 0.4135 - val_acc: 0.7952\n",
      "Epoch 136/200\n",
      " - 9s - loss: 0.4312 - acc: 0.7889 - val_loss: 0.4137 - val_acc: 0.7952\n",
      "Epoch 137/200\n",
      " - 9s - loss: 0.4308 - acc: 0.7893 - val_loss: 0.4136 - val_acc: 0.7953\n",
      "Epoch 138/200\n",
      " - 9s - loss: 0.4308 - acc: 0.7890 - val_loss: 0.4137 - val_acc: 0.7951\n",
      "Epoch 139/200\n",
      " - 9s - loss: 0.4305 - acc: 0.7890 - val_loss: 0.4138 - val_acc: 0.7952\n",
      "Epoch 140/200\n",
      " - 9s - loss: 0.4309 - acc: 0.7886 - val_loss: 0.4138 - val_acc: 0.7946\n",
      "Epoch 141/200\n",
      " - 9s - loss: 0.4313 - acc: 0.7883 - val_loss: 0.4140 - val_acc: 0.7951\n",
      "Epoch 142/200\n",
      " - 10s - loss: 0.4313 - acc: 0.7886 - val_loss: 0.4137 - val_acc: 0.7950\n",
      "Epoch 143/200\n",
      " - 9s - loss: 0.4308 - acc: 0.7890 - val_loss: 0.4139 - val_acc: 0.7953\n",
      "Epoch 144/200\n",
      " - 9s - loss: 0.4311 - acc: 0.7887 - val_loss: 0.4138 - val_acc: 0.7950\n",
      "Epoch 145/200\n",
      " - 9s - loss: 0.4305 - acc: 0.7891 - val_loss: 0.4135 - val_acc: 0.7955\n",
      "Epoch 146/200\n",
      " - 9s - loss: 0.4311 - acc: 0.7889 - val_loss: 0.4137 - val_acc: 0.7950\n",
      "Epoch 147/200\n",
      " - 9s - loss: 0.4311 - acc: 0.7889 - val_loss: 0.4139 - val_acc: 0.7950\n",
      "Epoch 148/200\n",
      " - 9s - loss: 0.4302 - acc: 0.7893 - val_loss: 0.4136 - val_acc: 0.7951\n",
      "Epoch 149/200\n",
      " - 10s - loss: 0.4309 - acc: 0.7891 - val_loss: 0.4136 - val_acc: 0.7953\n",
      "Epoch 150/200\n",
      " - 9s - loss: 0.4305 - acc: 0.7889 - val_loss: 0.4138 - val_acc: 0.7949\n",
      "Epoch 151/200\n",
      " - 9s - loss: 0.4311 - acc: 0.7888 - val_loss: 0.4137 - val_acc: 0.7950\n",
      "Epoch 152/200\n",
      " - 9s - loss: 0.4307 - acc: 0.7888 - val_loss: 0.4135 - val_acc: 0.7950\n",
      "Epoch 153/200\n",
      " - 9s - loss: 0.4310 - acc: 0.7889 - val_loss: 0.4138 - val_acc: 0.7949\n",
      "Epoch 154/200\n",
      " - 9s - loss: 0.4311 - acc: 0.7889 - val_loss: 0.4135 - val_acc: 0.7956\n",
      "Epoch 155/200\n",
      " - 9s - loss: 0.4314 - acc: 0.7884 - val_loss: 0.4137 - val_acc: 0.7954\n",
      "Epoch 156/200\n",
      " - 9s - loss: 0.4310 - acc: 0.7888 - val_loss: 0.4133 - val_acc: 0.7952\n",
      "Epoch 157/200\n",
      " - 9s - loss: 0.4309 - acc: 0.7888 - val_loss: 0.4134 - val_acc: 0.7953\n",
      "Epoch 158/200\n",
      " - 10s - loss: 0.4304 - acc: 0.7890 - val_loss: 0.4136 - val_acc: 0.7954\n",
      "Epoch 159/200\n",
      " - 9s - loss: 0.4311 - acc: 0.7887 - val_loss: 0.4137 - val_acc: 0.7948\n",
      "Epoch 160/200\n",
      " - 9s - loss: 0.4309 - acc: 0.7888 - val_loss: 0.4135 - val_acc: 0.7953\n",
      "Epoch 161/200\n",
      " - 9s - loss: 0.4304 - acc: 0.7890 - val_loss: 0.4135 - val_acc: 0.7954\n",
      "Epoch 162/200\n",
      " - 9s - loss: 0.4304 - acc: 0.7889 - val_loss: 0.4135 - val_acc: 0.7955\n",
      "Epoch 163/200\n",
      " - 9s - loss: 0.4307 - acc: 0.7891 - val_loss: 0.4136 - val_acc: 0.7954\n",
      "Epoch 164/200\n",
      " - 9s - loss: 0.4305 - acc: 0.7890 - val_loss: 0.4135 - val_acc: 0.7953\n",
      "Epoch 165/200\n",
      " - 9s - loss: 0.4308 - acc: 0.7886 - val_loss: 0.4137 - val_acc: 0.7951\n",
      "Epoch 166/200\n",
      " - 9s - loss: 0.4305 - acc: 0.7890 - val_loss: 0.4136 - val_acc: 0.7954\n",
      "Epoch 167/200\n",
      " - 8s - loss: 0.4309 - acc: 0.7889 - val_loss: 0.4136 - val_acc: 0.7955\n",
      "Epoch 168/200\n",
      " - 9s - loss: 0.4303 - acc: 0.7892 - val_loss: 0.4137 - val_acc: 0.7953\n",
      "Epoch 169/200\n",
      " - 10s - loss: 0.4307 - acc: 0.7888 - val_loss: 0.4134 - val_acc: 0.7953\n",
      "Epoch 170/200\n",
      " - 9s - loss: 0.4306 - acc: 0.7888 - val_loss: 0.4135 - val_acc: 0.7954\n",
      "Epoch 171/200\n",
      " - 9s - loss: 0.4309 - acc: 0.7888 - val_loss: 0.4133 - val_acc: 0.7954\n",
      "Epoch 172/200\n",
      " - 9s - loss: 0.4306 - acc: 0.7892 - val_loss: 0.4135 - val_acc: 0.7954\n",
      "Epoch 173/200\n",
      " - 10s - loss: 0.4308 - acc: 0.7893 - val_loss: 0.4134 - val_acc: 0.7954\n",
      "Epoch 174/200\n",
      " - 9s - loss: 0.4310 - acc: 0.7889 - val_loss: 0.4133 - val_acc: 0.7951\n",
      "Epoch 175/200\n",
      " - 9s - loss: 0.4309 - acc: 0.7892 - val_loss: 0.4135 - val_acc: 0.7954\n",
      "Epoch 176/200\n",
      " - 9s - loss: 0.4308 - acc: 0.7891 - val_loss: 0.4133 - val_acc: 0.7956\n",
      "Epoch 177/200\n",
      " - 9s - loss: 0.4304 - acc: 0.7888 - val_loss: 0.4135 - val_acc: 0.7955\n",
      "Epoch 178/200\n",
      " - 9s - loss: 0.4308 - acc: 0.7886 - val_loss: 0.4140 - val_acc: 0.7951\n",
      "Epoch 179/200\n",
      " - 9s - loss: 0.4309 - acc: 0.7888 - val_loss: 0.4135 - val_acc: 0.7952\n",
      "Epoch 180/200\n"
     ]
    },
    {
     "name": "stdout",
     "output_type": "stream",
     "text": [
      " - 9s - loss: 0.4307 - acc: 0.7892 - val_loss: 0.4138 - val_acc: 0.7954\n",
      "Epoch 181/200\n",
      " - 9s - loss: 0.4307 - acc: 0.7891 - val_loss: 0.4137 - val_acc: 0.7952\n",
      "Epoch 182/200\n",
      " - 9s - loss: 0.4307 - acc: 0.7886 - val_loss: 0.4136 - val_acc: 0.7952\n",
      "Epoch 183/200\n",
      " - 9s - loss: 0.4310 - acc: 0.7889 - val_loss: 0.4138 - val_acc: 0.7951\n",
      "Epoch 184/200\n",
      " - 9s - loss: 0.4304 - acc: 0.7891 - val_loss: 0.4134 - val_acc: 0.7952\n",
      "Epoch 185/200\n",
      " - 9s - loss: 0.4310 - acc: 0.7891 - val_loss: 0.4137 - val_acc: 0.7950\n",
      "Epoch 186/200\n",
      " - 9s - loss: 0.4304 - acc: 0.7888 - val_loss: 0.4135 - val_acc: 0.7955\n",
      "Epoch 187/200\n",
      " - 9s - loss: 0.4302 - acc: 0.7894 - val_loss: 0.4134 - val_acc: 0.7953\n",
      "Epoch 188/200\n",
      " - 9s - loss: 0.4307 - acc: 0.7889 - val_loss: 0.4136 - val_acc: 0.7954\n",
      "Epoch 189/200\n",
      " - 9s - loss: 0.4311 - acc: 0.7889 - val_loss: 0.4138 - val_acc: 0.7951\n",
      "Epoch 190/200\n",
      " - 9s - loss: 0.4312 - acc: 0.7887 - val_loss: 0.4138 - val_acc: 0.7950\n",
      "Epoch 191/200\n",
      " - 9s - loss: 0.4310 - acc: 0.7889 - val_loss: 0.4137 - val_acc: 0.7952\n",
      "Epoch 192/200\n",
      " - 9s - loss: 0.4307 - acc: 0.7891 - val_loss: 0.4139 - val_acc: 0.7952\n",
      "Epoch 193/200\n",
      " - 10s - loss: 0.4310 - acc: 0.7888 - val_loss: 0.4135 - val_acc: 0.7952\n",
      "Epoch 194/200\n",
      " - 9s - loss: 0.4307 - acc: 0.7890 - val_loss: 0.4138 - val_acc: 0.7954\n",
      "Epoch 195/200\n",
      " - 9s - loss: 0.4303 - acc: 0.7891 - val_loss: 0.4135 - val_acc: 0.7955\n",
      "Epoch 196/200\n",
      " - 9s - loss: 0.4306 - acc: 0.7891 - val_loss: 0.4134 - val_acc: 0.7955\n",
      "Epoch 197/200\n",
      " - 9s - loss: 0.4306 - acc: 0.7888 - val_loss: 0.4138 - val_acc: 0.7950\n",
      "Epoch 198/200\n",
      " - 9s - loss: 0.4309 - acc: 0.7889 - val_loss: 0.4135 - val_acc: 0.7951\n",
      "Epoch 199/200\n",
      " - 10s - loss: 0.4307 - acc: 0.7890 - val_loss: 0.4132 - val_acc: 0.7954\n",
      "Epoch 200/200\n",
      " - 11s - loss: 0.4309 - acc: 0.7889 - val_loss: 0.4136 - val_acc: 0.7953\n"
     ]
    }
   ],
   "source": [
    "# Creamos el modelo.\n",
    "Class_NNmodel = Class_nn_model(X_train,12,None,None)\n",
    "# Estructura de mi modelo.\n",
    "Class_NNmodel.summary()\n",
    "\n",
    "# Entrenamiento del modelo.\n",
    "\n",
    "# Definimos las épocas y el batch de entrenamiento.  \n",
    "EPOCHS     = 200\n",
    "batch_size = None\n",
    "\n",
    "# Genero las variables categoricas del target.\n",
    "# ej: si es clase 2 --> [0,1,0,0]\n",
    "y_train = pd.get_dummies(y_train.astype(str))\n",
    "y_test  = pd.get_dummies(y_test.astype(str))\n",
    "\n",
    "# Entrenamos nuestro modelo.\n",
    "history = Class_NNmodel.fit(\n",
    "          X_train, y_train,\n",
    "          epochs=EPOCHS, verbose=2,\n",
    "          batch_size=batch_size,\n",
    "          # Con esto le puedo dar mas pesos a unos targets que otros.\n",
    "          # Es util para targets desbalanceados.\n",
    "          class_weight = {0: 1., 1: 1., 2: 1., 3: 1.}, \n",
    "#           class_weight = {0: weight[0], 1: weight[1], 2: weight[2], 3: weight[3]},\n",
    "          validation_split=0.2)"
   ]
  },
  {
   "cell_type": "code",
   "execution_count": 102,
   "metadata": {},
   "outputs": [],
   "source": [
    "# Guardamos el modelo entrenado para utilizarlo en el futuro.\n",
    "\n",
    "Class_NNmodel.save(\"nn_model.h5\")"
   ]
  },
  {
   "cell_type": "code",
   "execution_count": 96,
   "metadata": {},
   "outputs": [
    {
     "data": {
      "image/png": "[encoded data removed]",
      "text/plain": [
       "<Figure size 1080x360 with 2 Axes>"
      ]
     },
     "metadata": {
      "needs_background": "light"
     },
     "output_type": "display_data"
    }
   ],
   "source": [
    "# Mostramos el entrenamiento del modelo.\n",
    "\n",
    "f, axes = plt.subplots(1, 2, figsize = (15,5))\n",
    "\n",
    "# Accuracy para cada epoca de entrenamiento.\n",
    "axes[0].plot(history.history['acc'])\n",
    "axes[0].plot(history.history['val_acc'])\n",
    "axes[0].set_ylabel('accuracy')\n",
    "axes[0].set_xlabel('epocas')\n",
    "axes[0].legend(['Entrenamiento', 'Validación'], loc='upper left')\n",
    "axes[0].set_xlim([0, EPOCHS])\n",
    "axes[0].grid()\n",
    "\n",
    "# Funcion de perdida para cada epoca de entrenamiento.\n",
    "axes[1].plot(history.history['loss'])\n",
    "axes[1].plot(history.history['val_loss'])\n",
    "axes[1].set_ylabel('loss')\n",
    "axes[1].set_xlabel('epocas')\n",
    "axes[1].legend(['Entrenamiento', 'Validación'], loc='upper left')\n",
    "axes[1].set_xlim([0, EPOCHS])\n",
    "axes[1].grid()"
   ]
  },
  {
   "cell_type": "code",
   "execution_count": 97,
   "metadata": {},
   "outputs": [
    {
     "data": {
      "text/plain": [
       "Text(570.5454545454544, 0.5, 'true')"
      ]
     },
     "execution_count": 97,
     "metadata": {},
     "output_type": "execute_result"
    },
    {
     "data": {
      "image/png": "[encoded data removed]",
      "text/plain": [
       "<Figure size 1080x360 with 4 Axes>"
      ]
     },
     "metadata": {
      "needs_background": "light"
     },
     "output_type": "display_data"
    }
   ],
   "source": [
    "y_pred  = Class_NNmodel.predict(X_test)\n",
    "y_pred  = (y_pred-0).argmax(axis=1)   \n",
    "y_test2 = np.array(y_test).argmax(axis=1)\n",
    "\n",
    "f, axes = plt.subplots(1, 2, figsize = (15,5))\n",
    "\n",
    "cm   = confusion_matrix(y_test2, y_pred)\n",
    "cmap = sns.cubehelix_palette(50, hue=0.05, rot=0, light=0.9, dark=0, as_cmap=True)\n",
    "sns.heatmap(cm, annot=True, linewidths=.5, cmap=cmap, fmt='d', ax = axes[0])\n",
    "axes[0].set_title('matriz de confusion (test)')\n",
    "axes[0].set_xlabel('prediction')\n",
    "axes[0].set_ylabel('true')\n",
    "\n",
    "cm2   = np.round(cm/cm.sum(axis = 0)*100, 0).astype(int)\n",
    "cmap = sns.cubehelix_palette(50, hue=0.05, rot=0, light=0.9, dark=0, as_cmap=True)\n",
    "sns.heatmap(cm2, annot=True, linewidths=.5, cmap=cmap, fmt='d', ax = axes[1])\n",
    "axes[1].set_title('Porcentaje de aciertos (test)')\n",
    "axes[1].set_xlabel('prediction')\n",
    "axes[1].set_ylabel('true')\n",
    "\n"
   ]
  },
  {
   "cell_type": "code",
   "execution_count": 101,
   "metadata": {},
   "outputs": [
    {
     "name": "stderr",
     "output_type": "stream",
     "text": [
      "C:\\Users\\elosasso\\AppData\\Local\\Continuum\\anaconda3\\lib\\site-packages\\IPython\\core\\pylabtools.py:132: UserWarning: Creating legend with loc=\"best\" can be slow with large amounts of data.\n",
      "  fig.canvas.print_figure(bytes_io, **kw)\n"
     ]
    },
    {
     "data": {
      "image/png": "[encoded data removed]",
      "text/plain": [
       "<Figure size 432x360 with 1 Axes>"
      ]
     },
     "metadata": {
      "needs_background": "light"
     },
     "output_type": "display_data"
    }
   ],
   "source": [
    "# Generamos la curva ROC.\n",
    "\n",
    "ROC_curve(Class_NNmodel, X_train, y_train)"
   ]
  },
  {
   "cell_type": "markdown",
   "metadata": {},
   "source": [
    "# Conlusión"
   ]
  },
  {
   "cell_type": "markdown",
   "metadata": {},
   "source": [
    "Está claro, en base a los resultados obtenidos, que el modelo que obtuvo mejores resultados fue el de la red neuronal. La medida utilizada para determinar esto fue la AUC, y aunque los datos que se ingresaron a la red no eran distintos de los que se utilizaron en el *Random Forest*, claramente la red aprendió a detectar patrones que el otro modelo no.\n",
    "\n",
    "Aún así, el modelo de *Random Forest* tenía espacio para mejoras que podrían levantar la performance (que se midió con la matriz de confusión y principalmente el f1-score.\n",
    "\n",
    "El peor de los modelos fue el de la *Regresión Logística*. Si bien es un modelo simple, no estaba de más intentar un modelo así."
   ]
  },
  {
   "cell_type": "markdown",
   "metadata": {},
   "source": [
    "# Comentarios finales"
   ]
  },
  {
   "cell_type": "markdown",
   "metadata": {},
   "source": [
    "Como se mencionó anteriormente, esta es una primera aproximación a la solución final. Restarían más pasos que tendrían como objetivo mejorar la performance de la red (probando distintos hiperparámetros, más capas, distintas configuraciones, etc.) \n",
    "\n",
    "De la misma forma, resta hacer un poco más de ingeniería de atributos, especialmente si se quiere utilizar el *Random Forest* como modelo. Algunas cosas que se quisieron hacer pero no se pudo fueron:\n",
    "\n",
    "* Hacer un *Análisis de componentes principales* para lograr reducir la dimensionalidad\n",
    "* Hacer un *Clustering*, previo al entrenamiento de cualquier modelo, para crear una nueva variable que sea el clúster de pertenencia, para evaluar si esa variable extra mejoraría la performance\n",
    "* Intentar conseguir algunas variables útiles como puede ser la marca de un producto, ya que puede estar relacionada con la cantidad de productos vendidos"
   ]
  },
  {
   "cell_type": "code",
   "execution_count": null,
   "metadata": {},
   "outputs": [],
   "source": []
  }
 ],
 "metadata": {
  "kernelspec": {
   "display_name": "Python 3",
   "language": "python",
   "name": "python3"
  },
  "language_info": {
   "codemirror_mode": {
    "name": "ipython",
    "version": 3
   },
   "file_extension": ".py",
   "mimetype": "text/x-python",
   "name": "python",
   "nbconvert_exporter": "python",
   "pygments_lexer": "ipython3",
   "version": "3.7.3"
  }
 },
 "nbformat": 4,
 "nbformat_minor": 4
}
